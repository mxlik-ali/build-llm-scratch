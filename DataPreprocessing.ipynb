{
  "nbformat": 4,
  "nbformat_minor": 0,
  "metadata": {
    "colab": {
      "provenance": [],
      "collapsed_sections": [
        "gj_pbPjPgSYW",
        "f0GFh6u-hWmc",
        "_aMlL49zmtlo",
        "vWQepwfOtrwA",
        "ahM-EhCYtrwB"
      ]
    },
    "kernelspec": {
      "name": "python3",
      "display_name": "Python 3"
    },
    "language_info": {
      "name": "python"
    }
  },
  "cells": [
    {
      "cell_type": "markdown",
      "source": [
        "## Step 1: Creating Tokens"
      ],
      "metadata": {
        "id": "t40mGAgQNNfT"
      }
    },
    {
      "cell_type": "markdown",
      "source": [
        "Before we can train a language model, the raw text data needs to be broken down into smaller units called tokens. Tokens are the basic building blocks for further processing: they can be characters, words, or subwords depending on the tokenizer design.\n",
        "\n",
        "In this step, we will read in a sample text file and explore different ways to tokenize it."
      ],
      "metadata": {
        "id": "335sowUFQLSd"
      }
    },
    {
      "cell_type": "markdown",
      "source": [
        "Reading the text file\n",
        "The first step is to load the file into memory and check its length:"
      ],
      "metadata": {
        "id": "BXtFlJ78QZEw"
      }
    },
    {
      "cell_type": "code",
      "source": [
        "from google.colab import files\n",
        "\n",
        "# Step 1: Upload the file\n",
        "uploaded = files.upload()  # Pick the-verdict.txt from your computer\n",
        "\n",
        "# Step 2: Read the uploaded file\n",
        "filename = list(uploaded.keys())[0]  # get the uploaded file name dynamically\n",
        "with open(filename, \"r\") as f:\n",
        "    raw_text = f.read()\n",
        "\n",
        "# Step 3: Print some info\n",
        "print(\"Total number of characters:\", len(raw_text))\n",
        "print(\"First 100 characters preview:\\n\", raw_text[:100])"
      ],
      "metadata": {
        "colab": {
          "base_uri": "https://localhost:8080/",
          "height": 125
        },
        "id": "QSla9ZTTQgpN",
        "outputId": "ac0839a5-894d-4d56-a1bd-4ecd2c572593"
      },
      "execution_count": null,
      "outputs": [
        {
          "output_type": "display_data",
          "data": {
            "text/plain": [
              "<IPython.core.display.HTML object>"
            ],
            "text/html": [
              "\n",
              "     <input type=\"file\" id=\"files-3dec710e-a8de-4034-a6b7-e8458035496f\" name=\"files[]\" multiple disabled\n",
              "        style=\"border:none\" />\n",
              "     <output id=\"result-3dec710e-a8de-4034-a6b7-e8458035496f\">\n",
              "      Upload widget is only available when the cell has been executed in the\n",
              "      current browser session. Please rerun this cell to enable.\n",
              "      </output>\n",
              "      <script>// Copyright 2017 Google LLC\n",
              "//\n",
              "// Licensed under the Apache License, Version 2.0 (the \"License\");\n",
              "// you may not use this file except in compliance with the License.\n",
              "// You may obtain a copy of the License at\n",
              "//\n",
              "//      http://www.apache.org/licenses/LICENSE-2.0\n",
              "//\n",
              "// Unless required by applicable law or agreed to in writing, software\n",
              "// distributed under the License is distributed on an \"AS IS\" BASIS,\n",
              "// WITHOUT WARRANTIES OR CONDITIONS OF ANY KIND, either express or implied.\n",
              "// See the License for the specific language governing permissions and\n",
              "// limitations under the License.\n",
              "\n",
              "/**\n",
              " * @fileoverview Helpers for google.colab Python module.\n",
              " */\n",
              "(function(scope) {\n",
              "function span(text, styleAttributes = {}) {\n",
              "  const element = document.createElement('span');\n",
              "  element.textContent = text;\n",
              "  for (const key of Object.keys(styleAttributes)) {\n",
              "    element.style[key] = styleAttributes[key];\n",
              "  }\n",
              "  return element;\n",
              "}\n",
              "\n",
              "// Max number of bytes which will be uploaded at a time.\n",
              "const MAX_PAYLOAD_SIZE = 100 * 1024;\n",
              "\n",
              "function _uploadFiles(inputId, outputId) {\n",
              "  const steps = uploadFilesStep(inputId, outputId);\n",
              "  const outputElement = document.getElementById(outputId);\n",
              "  // Cache steps on the outputElement to make it available for the next call\n",
              "  // to uploadFilesContinue from Python.\n",
              "  outputElement.steps = steps;\n",
              "\n",
              "  return _uploadFilesContinue(outputId);\n",
              "}\n",
              "\n",
              "// This is roughly an async generator (not supported in the browser yet),\n",
              "// where there are multiple asynchronous steps and the Python side is going\n",
              "// to poll for completion of each step.\n",
              "// This uses a Promise to block the python side on completion of each step,\n",
              "// then passes the result of the previous step as the input to the next step.\n",
              "function _uploadFilesContinue(outputId) {\n",
              "  const outputElement = document.getElementById(outputId);\n",
              "  const steps = outputElement.steps;\n",
              "\n",
              "  const next = steps.next(outputElement.lastPromiseValue);\n",
              "  return Promise.resolve(next.value.promise).then((value) => {\n",
              "    // Cache the last promise value to make it available to the next\n",
              "    // step of the generator.\n",
              "    outputElement.lastPromiseValue = value;\n",
              "    return next.value.response;\n",
              "  });\n",
              "}\n",
              "\n",
              "/**\n",
              " * Generator function which is called between each async step of the upload\n",
              " * process.\n",
              " * @param {string} inputId Element ID of the input file picker element.\n",
              " * @param {string} outputId Element ID of the output display.\n",
              " * @return {!Iterable<!Object>} Iterable of next steps.\n",
              " */\n",
              "function* uploadFilesStep(inputId, outputId) {\n",
              "  const inputElement = document.getElementById(inputId);\n",
              "  inputElement.disabled = false;\n",
              "\n",
              "  const outputElement = document.getElementById(outputId);\n",
              "  outputElement.innerHTML = '';\n",
              "\n",
              "  const pickedPromise = new Promise((resolve) => {\n",
              "    inputElement.addEventListener('change', (e) => {\n",
              "      resolve(e.target.files);\n",
              "    });\n",
              "  });\n",
              "\n",
              "  const cancel = document.createElement('button');\n",
              "  inputElement.parentElement.appendChild(cancel);\n",
              "  cancel.textContent = 'Cancel upload';\n",
              "  const cancelPromise = new Promise((resolve) => {\n",
              "    cancel.onclick = () => {\n",
              "      resolve(null);\n",
              "    };\n",
              "  });\n",
              "\n",
              "  // Wait for the user to pick the files.\n",
              "  const files = yield {\n",
              "    promise: Promise.race([pickedPromise, cancelPromise]),\n",
              "    response: {\n",
              "      action: 'starting',\n",
              "    }\n",
              "  };\n",
              "\n",
              "  cancel.remove();\n",
              "\n",
              "  // Disable the input element since further picks are not allowed.\n",
              "  inputElement.disabled = true;\n",
              "\n",
              "  if (!files) {\n",
              "    return {\n",
              "      response: {\n",
              "        action: 'complete',\n",
              "      }\n",
              "    };\n",
              "  }\n",
              "\n",
              "  for (const file of files) {\n",
              "    const li = document.createElement('li');\n",
              "    li.append(span(file.name, {fontWeight: 'bold'}));\n",
              "    li.append(span(\n",
              "        `(${file.type || 'n/a'}) - ${file.size} bytes, ` +\n",
              "        `last modified: ${\n",
              "            file.lastModifiedDate ? file.lastModifiedDate.toLocaleDateString() :\n",
              "                                    'n/a'} - `));\n",
              "    const percent = span('0% done');\n",
              "    li.appendChild(percent);\n",
              "\n",
              "    outputElement.appendChild(li);\n",
              "\n",
              "    const fileDataPromise = new Promise((resolve) => {\n",
              "      const reader = new FileReader();\n",
              "      reader.onload = (e) => {\n",
              "        resolve(e.target.result);\n",
              "      };\n",
              "      reader.readAsArrayBuffer(file);\n",
              "    });\n",
              "    // Wait for the data to be ready.\n",
              "    let fileData = yield {\n",
              "      promise: fileDataPromise,\n",
              "      response: {\n",
              "        action: 'continue',\n",
              "      }\n",
              "    };\n",
              "\n",
              "    // Use a chunked sending to avoid message size limits. See b/62115660.\n",
              "    let position = 0;\n",
              "    do {\n",
              "      const length = Math.min(fileData.byteLength - position, MAX_PAYLOAD_SIZE);\n",
              "      const chunk = new Uint8Array(fileData, position, length);\n",
              "      position += length;\n",
              "\n",
              "      const base64 = btoa(String.fromCharCode.apply(null, chunk));\n",
              "      yield {\n",
              "        response: {\n",
              "          action: 'append',\n",
              "          file: file.name,\n",
              "          data: base64,\n",
              "        },\n",
              "      };\n",
              "\n",
              "      let percentDone = fileData.byteLength === 0 ?\n",
              "          100 :\n",
              "          Math.round((position / fileData.byteLength) * 100);\n",
              "      percent.textContent = `${percentDone}% done`;\n",
              "\n",
              "    } while (position < fileData.byteLength);\n",
              "  }\n",
              "\n",
              "  // All done.\n",
              "  yield {\n",
              "    response: {\n",
              "      action: 'complete',\n",
              "    }\n",
              "  };\n",
              "}\n",
              "\n",
              "scope.google = scope.google || {};\n",
              "scope.google.colab = scope.google.colab || {};\n",
              "scope.google.colab._files = {\n",
              "  _uploadFiles,\n",
              "  _uploadFilesContinue,\n",
              "};\n",
              "})(self);\n",
              "</script> "
            ]
          },
          "metadata": {}
        },
        {
          "output_type": "stream",
          "name": "stdout",
          "text": [
            "Saving the-verdict.txt to the-verdict.txt\n",
            "Total number of characters: 20479\n",
            "First 100 characters preview:\n",
            " I HAD always thought Jack Gisburn rather a cheap genius--though a good fellow enough--so it was no g\n"
          ]
        }
      ]
    },
    {
      "cell_type": "markdown",
      "source": [
        "**Why Tokenization Matters**\n",
        "\n",
        "* Raw text cannot be directly processed by a model. It needs to be converted into\n",
        "numerical form through tokenization and embeddings.\n",
        "\n",
        "* Different applications may require different tokenization strategies. For example, natural English text often works well with word or subword tokenization, but programming code requires whitespace-sensitive tokenization.\n",
        "\n",
        "* Scale of training: While state-of-the-art LLMs are trained on terabytes of text, here we work with a single short story to keep the examples simple and runnable on consumer hardware."
      ],
      "metadata": {
        "id": "4TI9UhONQdjw"
      }
    },
    {
      "cell_type": "markdown",
      "source": [
        "**Using Regex for a Simple Tokenizer**\n",
        "\n",
        "Let’s begin with a toy example before applying tokenization to the full story.\n",
        "Here, re.split(r'(\\s)', text) splits the string into tokens whenever it encounters whitespace. Notice that whitespace itself is retained as separate tokens."
      ],
      "metadata": {
        "id": "MfWj3I8rRNwb"
      }
    },
    {
      "cell_type": "code",
      "source": [
        "import re\n",
        "\n",
        "text = \"Hello, world. This, is a test.\"\n",
        "result = re.split(r'(\\s)', text)\n",
        "print(result)"
      ],
      "metadata": {
        "colab": {
          "base_uri": "https://localhost:8080/"
        },
        "id": "vdoNvDwUQ4ZO",
        "outputId": "7e3b7bdc-66c8-4580-d54a-441b78b4f7ac"
      },
      "execution_count": null,
      "outputs": [
        {
          "output_type": "stream",
          "name": "stdout",
          "text": [
            "['Hello,', ' ', 'world.', ' ', 'This,', ' ', 'is', ' ', 'a', ' ', 'test.']\n"
          ]
        }
      ]
    },
    {
      "cell_type": "markdown",
      "source": [
        "**Improving the Split**\n",
        "\n",
        "We can expand the regex to also split on commas and periods:"
      ],
      "metadata": {
        "id": "maADDA7mRYDx"
      }
    },
    {
      "cell_type": "code",
      "source": [
        "result = re.split(r'([,.]|\\s)', text)\n",
        "print(result)"
      ],
      "metadata": {
        "colab": {
          "base_uri": "https://localhost:8080/"
        },
        "id": "weiETnKtNT0r",
        "outputId": "dc0d44ee-42b6-4858-dfa9-aa507e45a11f"
      },
      "execution_count": null,
      "outputs": [
        {
          "output_type": "stream",
          "name": "stdout",
          "text": [
            "['Hello', ',', '', ' ', 'world', '.', '', ' ', 'This', ',', '', ' ', 'is', ' ', 'a', ' ', 'test', '.', '']\n"
          ]
        }
      ]
    },
    {
      "cell_type": "markdown",
      "source": [
        "Now words and punctuation are separated, but we also get redundant empty strings and spaces."
      ],
      "metadata": {
        "id": "jmpqYGz9Rzp5"
      }
    },
    {
      "cell_type": "markdown",
      "source": [
        "**Cleaning the Token List**\n",
        "\n",
        "To remove noise, we strip whitespace and filter out empty tokens:"
      ],
      "metadata": {
        "id": "cLoRXyOMR3CW"
      }
    },
    {
      "cell_type": "code",
      "source": [
        "result = [item for item in result if item.strip()]\n",
        "print(result)"
      ],
      "metadata": {
        "colab": {
          "base_uri": "https://localhost:8080/"
        },
        "id": "y_KKRdZtR79f",
        "outputId": "43ae16bc-af33-402f-c26f-3788d232a1c4"
      },
      "execution_count": null,
      "outputs": [
        {
          "output_type": "stream",
          "name": "stdout",
          "text": [
            "['Hello', ',', 'world', '.', 'This', ',', 'is', 'a', 'test', '.']\n"
          ]
        }
      ]
    },
    {
      "cell_type": "markdown",
      "source": [
        "**Should We Keep Whitespace?**\n",
        "\n",
        "When developing a simple tokenizer, whether we should encode whitespaces as separate characters or just remove them depends on our application and its requirements. Removing whitespaces reduces the memory and computing requirements. However, keeping whitespaces can be useful if we train models that are sensitive to the exact structure of the text (for example, Python code, which is sensitive to indentation and spacing). Here, we remove whitespaces for simplicity and brevity of the tokenized outputs. Later, we will switch to a tokenization scheme that includes whitespaces.\n",
        "\n",
        "The tokenization scheme we devised above works well on the simple sample text. Let's modify it a bit further so that it can also handle other types of punctuation, such as question marks, quotation marks, and the double-dashes we have seen earlier in the first 100 characters of Edith Wharton's short story, along with additional special characters:"
      ],
      "metadata": {
        "id": "sVIdr5pzSdWo"
      }
    },
    {
      "cell_type": "markdown",
      "source": [
        "**Handling More Punctuation**\n",
        "\n",
        "Real-world text contains many punctuation symbols such as question marks, dashes, and quotation marks. Let’s extend our regex:"
      ],
      "metadata": {
        "id": "fWPw9x91S20n"
      }
    },
    {
      "cell_type": "code",
      "source": [
        "text = \"Hello, world. Is this-- a test?\"\n",
        "result = re.split(r'([,.:;?_!\"()\\']|--|\\s)', text)\n",
        "result = [item.strip() for item in result if item.strip()]\n",
        "print(result)"
      ],
      "metadata": {
        "colab": {
          "base_uri": "https://localhost:8080/"
        },
        "id": "6mkDpGTDS5Ot",
        "outputId": "5cda8cfc-28b4-41f0-d541-d6ea09edc121"
      },
      "execution_count": null,
      "outputs": [
        {
          "output_type": "stream",
          "name": "stdout",
          "text": [
            "['Hello', ',', 'world', '.', 'Is', 'this', '--', 'a', 'test', '?']\n"
          ]
        }
      ]
    },
    {
      "cell_type": "markdown",
      "source": [
        "Now our tokenizer correctly handles punctuation and special characters."
      ],
      "metadata": {
        "id": "kv99Bx5vS7dI"
      }
    },
    {
      "cell_type": "markdown",
      "source": [
        "**Applying to the Full Story**\n",
        "\n",
        "Finally, let’s tokenize Edith Wharton’s entire story:"
      ],
      "metadata": {
        "id": "dlnFdngITA-i"
      }
    },
    {
      "cell_type": "code",
      "source": [
        "preprocessed = re.split(r'([,.:;?_!\"()\\']|--|\\s)', raw_text)\n",
        "preprocessed = [item.strip() for item in preprocessed if item.strip()]\n",
        "\n",
        "print(\"First 30 tokens:\", preprocessed[:30])\n",
        "print(\"Total number of tokens:\", len(preprocessed))"
      ],
      "metadata": {
        "colab": {
          "base_uri": "https://localhost:8080/"
        },
        "id": "7HZUiYbTTHI9",
        "outputId": "50063ea6-0389-4c6e-cab2-b220f186830c"
      },
      "execution_count": null,
      "outputs": [
        {
          "output_type": "stream",
          "name": "stdout",
          "text": [
            "First 30 tokens: ['I', 'HAD', 'always', 'thought', 'Jack', 'Gisburn', 'rather', 'a', 'cheap', 'genius', '--', 'though', 'a', 'good', 'fellow', 'enough', '--', 'so', 'it', 'was', 'no', 'great', 'surprise', 'to', 'me', 'to', 'hear', 'that', ',', 'in']\n",
            "Total number of tokens: 4690\n"
          ]
        }
      ]
    },
    {
      "cell_type": "markdown",
      "source": [
        "📊 **Token Frequency Distribution**\n",
        "\n",
        "We want to know: How often do different tokens appear in the story?\n",
        "In natural language, a few words (like \"the\", \"and\", \"to\") appear very frequently, while many appear only once or twice."
      ],
      "metadata": {
        "id": "KsjlX68ITSU6"
      }
    },
    {
      "cell_type": "code",
      "source": [
        "from collections import Counter\n",
        "import matplotlib.pyplot as plt\n",
        "\n",
        "# Count token frequencies\n",
        "token_counts = Counter(preprocessed)\n",
        "\n",
        "# Top 20 most common tokens\n",
        "most_common_tokens = token_counts.most_common(20)\n",
        "\n",
        "# Plot\n",
        "tokens, counts = zip(*most_common_tokens)\n",
        "plt.figure(figsize=(10, 5))\n",
        "plt.bar(tokens, counts)\n",
        "plt.title(\"Top 20 Most Common Tokens\")\n",
        "plt.xlabel(\"Token\")\n",
        "plt.ylabel(\"Frequency\")\n",
        "plt.xticks(rotation=45)\n",
        "plt.show()"
      ],
      "metadata": {
        "colab": {
          "base_uri": "https://localhost:8080/",
          "height": 503
        },
        "id": "f3TvCDxISt8y",
        "outputId": "e937e721-322e-4681-ccc5-f30963b613f6"
      },
      "execution_count": null,
      "outputs": [
        {
          "output_type": "display_data",
          "data": {
            "text/plain": [
              "<Figure size 1000x500 with 1 Axes>"
            ],
            "image/png": "[encoded data removed]"
          },
          "metadata": {}
        }
      ]
    },
    {
      "cell_type": "markdown",
      "source": [
        "📏 **Token Length Distribution**\n",
        "\n",
        "Regex tokenization produces tokens of very different lengths (e.g., \"I\" vs \"Gisburn\" vs \"--\"). Let’s check:"
      ],
      "metadata": {
        "id": "ge3QdqLOTddl"
      }
    },
    {
      "cell_type": "code",
      "source": [
        "token_lengths = [len(token) for token in preprocessed]\n",
        "\n",
        "plt.figure(figsize=(8, 5))\n",
        "plt.hist(token_lengths, bins=range(1, 15), edgecolor='black')\n",
        "plt.title(\"Distribution of Token Lengths\")\n",
        "plt.xlabel(\"Token Length (characters)\")\n",
        "plt.ylabel(\"Frequency\")\n",
        "plt.show()"
      ],
      "metadata": {
        "colab": {
          "base_uri": "https://localhost:8080/",
          "height": 487
        },
        "id": "sn5s1ICTTg00",
        "outputId": "451809f2-00b8-4ce6-bbd6-69117fce94ce"
      },
      "execution_count": null,
      "outputs": [
        {
          "output_type": "display_data",
          "data": {
            "text/plain": [
              "<Figure size 800x500 with 1 Axes>"
            ],
            "image/png": "[encoded data removed]"
          },
          "metadata": {}
        }
      ]
    },
    {
      "cell_type": "markdown",
      "source": [
        "**Why This Matters**\n",
        "\n",
        "Regex tokenization is rule-based and brittle. It can’t generalize well across different domains (e.g., handling emojis, hashtags, hyphenated words, or Unicode).\n",
        "\n",
        "Modern tokenizers like BPE (Byte Pair Encoding) or WordPiece fix this by:\n",
        "\n",
        "* Breaking rare words into subwords (e.g., \"Gisburn\" → \"Gis\" + \"burn\").\n",
        "\n",
        "* Keeping common words intact.\n",
        "\n",
        "* Ensuring consistent vocabulary size.\n",
        "\n",
        "This is why LLMs prefer subword tokenization instead of raw regex or whitespace splitting."
      ],
      "metadata": {
        "id": "13zdZ8j6TpQU"
      }
    },
    {
      "cell_type": "markdown",
      "source": [
        "## Step 2: Creating Token IDs"
      ],
      "metadata": {
        "id": "fJjj3B7-T3Ed"
      }
    },
    {
      "cell_type": "markdown",
      "source": [
        "In the previous step, we tokenized Edith Wharton’s short story into a list of tokens and stored it in a variable called preprocessed.\n",
        "Now, we move one step further: mapping these tokens to integers (token IDs), which is the format LLMs actually work with."
      ],
      "metadata": {
        "id": "uL37drr8djll"
      }
    },
    {
      "cell_type": "markdown",
      "source": [
        " **Building the Vocabulary**\n",
        "\n",
        "A vocabulary is the set of all unique tokens in our dataset.\n",
        "We sort these tokens alphabetically to get reproducible ordering."
      ],
      "metadata": {
        "id": "p0fWldyZdk36"
      }
    },
    {
      "cell_type": "code",
      "source": [
        "all_words = sorted(set(preprocessed))\n",
        "vocab_size = len(all_words)\n",
        "\n",
        "print(\"Vocabulary size:\", vocab_size)"
      ],
      "metadata": {
        "colab": {
          "base_uri": "https://localhost:8080/"
        },
        "id": "KZlB0IsldqMO",
        "outputId": "25373c69-c010-4901-f382-35517112d3d1"
      },
      "execution_count": null,
      "outputs": [
        {
          "output_type": "stream",
          "name": "stdout",
          "text": [
            "Vocabulary size: 1130\n"
          ]
        }
      ]
    },
    {
      "cell_type": "markdown",
      "source": [
        "**Creating the Token → ID Mapping**\n",
        "\n",
        "We assign each token a unique integer ID using Python dictionaries."
      ],
      "metadata": {
        "id": "HdcJfRCGd38D"
      }
    },
    {
      "cell_type": "code",
      "source": [
        "vocab = {token: idx for idx, token in enumerate(all_words)}\n",
        "\n",
        "# Print the first 51 entries\n",
        "for i, item in enumerate(vocab.items()):\n",
        "    print(item)\n",
        "    if i >= 50:\n",
        "        break"
      ],
      "metadata": {
        "colab": {
          "base_uri": "https://localhost:8080/"
        },
        "id": "A0sVaMcnd59B",
        "outputId": "104450f9-32ba-4c6c-b5a4-850692f1d5eb"
      },
      "execution_count": null,
      "outputs": [
        {
          "output_type": "stream",
          "name": "stdout",
          "text": [
            "('!', 0)\n",
            "('\"', 1)\n",
            "(\"'\", 2)\n",
            "('(', 3)\n",
            "(')', 4)\n",
            "(',', 5)\n",
            "('--', 6)\n",
            "('.', 7)\n",
            "(':', 8)\n",
            "(';', 9)\n",
            "('?', 10)\n",
            "('A', 11)\n",
            "('Ah', 12)\n",
            "('Among', 13)\n",
            "('And', 14)\n",
            "('Are', 15)\n",
            "('Arrt', 16)\n",
            "('As', 17)\n",
            "('At', 18)\n",
            "('Be', 19)\n",
            "('Begin', 20)\n",
            "('Burlington', 21)\n",
            "('But', 22)\n",
            "('By', 23)\n",
            "('Carlo', 24)\n",
            "('Chicago', 25)\n",
            "('Claude', 26)\n",
            "('Come', 27)\n",
            "('Croft', 28)\n",
            "('Destroyed', 29)\n",
            "('Devonshire', 30)\n",
            "('Don', 31)\n",
            "('Dubarry', 32)\n",
            "('Emperors', 33)\n",
            "('Florence', 34)\n",
            "('For', 35)\n",
            "('Gallery', 36)\n",
            "('Gideon', 37)\n",
            "('Gisburn', 38)\n",
            "('Gisburns', 39)\n",
            "('Grafton', 40)\n",
            "('Greek', 41)\n",
            "('Grindle', 42)\n",
            "('Grindles', 43)\n",
            "('HAD', 44)\n",
            "('Had', 45)\n",
            "('Hang', 46)\n",
            "('Has', 47)\n",
            "('He', 48)\n",
            "('Her', 49)\n",
            "('Hermia', 50)\n"
          ]
        }
      ]
    },
    {
      "cell_type": "markdown",
      "source": [
        "**Why Token IDs?**\n",
        "\n",
        "Neural networks cannot process raw text → they need numeric input.\n",
        "Token IDs are the bridge between raw text and embeddings.\n",
        "\n",
        "Without IDs, there’s no consistent way to look up embeddings during training.\n",
        "Later in this book, when we want to convert the outputs of an LLM from numbers back into text, we also need a way to turn token IDs into text.\n",
        "\n",
        "For this, we can create an inverse version of the vocabulary that maps token IDs back to corresponding text tokens.\n"
      ],
      "metadata": {
        "id": "skLj_alxeG3W"
      }
    },
    {
      "cell_type": "markdown",
      "source": [
        "**Creating the Inverse Vocabulary**\n",
        "\n",
        "When generating outputs, the model predicts IDs, which we must convert back to text.\n",
        "So we also need an inverse mapping:"
      ],
      "metadata": {
        "id": "-q0FF59MepQ2"
      }
    },
    {
      "cell_type": "code",
      "source": [
        "inverse_vocab = {idx: token for token, idx in vocab.items()}"
      ],
      "metadata": {
        "id": "g5b-QJN1eK0e"
      },
      "execution_count": null,
      "outputs": []
    },
    {
      "cell_type": "markdown",
      "source": [
        "Later in this book, when we want to convert the outputs of an LLM from numbers back into text, we also need a way to turn token IDs into text.\n",
        "\n",
        "For this, we can create an inverse version of the vocabulary that maps token IDs back to corresponding text tokens.\n",
        "\n",
        "Let's implement a complete tokenizer class in Python.\n",
        "\n",
        "The class will have an encode method that splits text into tokens and carries out the string-to-integer mapping to produce token IDs via the vocabulary.\n",
        "\n",
        "In addition, we implement a decode method that carries out the reverse integer-to-string mapping to convert the token IDs back into text.\n",
        "\n",
        "Step 1: Store the vocabulary as a class attribute for access in the encode and decode methods\n",
        "\n",
        "Step 2: Create an inverse vocabulary that maps token IDs back to the original text tokens\n",
        "\n",
        "Step 3: Process input text into token IDs\n",
        "\n",
        "Step 4: Convert token IDs back into text\n",
        "\n",
        "Step 5: Replace spaces before the specified punctuation"
      ],
      "metadata": {
        "id": "aZ3lp488elBM"
      }
    },
    {
      "cell_type": "markdown",
      "source": [
        "**Implementing a Simple Tokenizer Class**\n",
        "\n",
        "To bundle this functionality, we’ll create a SimpleTokenizerV1 class."
      ],
      "metadata": {
        "id": "Zu2-b-NEe_Ii"
      }
    },
    {
      "cell_type": "code",
      "source": [
        "import re\n",
        "\n",
        "class SimpleTokenizerV1:\n",
        "    def __init__(self, vocab):\n",
        "        # Forward mapping: string → ID\n",
        "        self.str_to_int = vocab\n",
        "        # Inverse mapping: ID → string\n",
        "        self.int_to_str = {i: s for s, i in vocab.items()}\n",
        "\n",
        "    def encode(self, text):\n",
        "        # Step 1: Split input text into tokens (same regex as before)\n",
        "        preprocessed = re.split(r'([,.:;?_!\"()\\']|--|\\s)', text)\n",
        "        preprocessed = [item.strip() for item in preprocessed if item.strip()]\n",
        "\n",
        "        # Step 2: Convert tokens into IDs\n",
        "        ids = [self.str_to_int[s] for s in preprocessed]\n",
        "        return ids\n",
        "\n",
        "    def decode(self, ids):\n",
        "        # Step 3: Convert IDs back into text\n",
        "        text = \" \".join([self.int_to_str[i] for i in ids])\n",
        "\n",
        "        # Step 4: Post-process spacing before punctuation\n",
        "        text = re.sub(r'\\s+([,.?!\"()\\'])', r'\\1', text)\n",
        "        return text"
      ],
      "metadata": {
        "id": "WRa-WQ8kT0ga"
      },
      "execution_count": null,
      "outputs": []
    },
    {
      "cell_type": "markdown",
      "source": [
        "**Trying the Tokenizer**\n",
        "\n",
        "Let’s encode a passage from the story:"
      ],
      "metadata": {
        "id": "6jXAGDkqVCMa"
      }
    },
    {
      "cell_type": "code",
      "source": [
        "tokenizer = SimpleTokenizerV1(vocab)\n",
        "\n",
        "text = \"\"\"\"It's the last he painted, you know,\"\n",
        "           Mrs. Gisburn said with pardonable pride.\"\"\"\n",
        "ids = tokenizer.encode(text)\n",
        "print(ids)"
      ],
      "metadata": {
        "colab": {
          "base_uri": "https://localhost:8080/"
        },
        "id": "gD5xSIyXWI6V",
        "outputId": "72b5f6b8-80b0-445d-c354-63398f0f3c65"
      },
      "execution_count": null,
      "outputs": [
        {
          "output_type": "stream",
          "name": "stdout",
          "text": [
            "[1, 56, 2, 850, 988, 602, 533, 746, 5, 1126, 596, 5, 1, 67, 7, 38, 851, 1108, 754, 793, 7]\n"
          ]
        }
      ]
    },
    {
      "cell_type": "markdown",
      "source": [
        "**Decoding Back to Text**"
      ],
      "metadata": {
        "id": "jEuYjuQVW9Zp"
      }
    },
    {
      "cell_type": "code",
      "source": [
        "decoded_text = tokenizer.decode(ids)\n",
        "print(decoded_text)"
      ],
      "metadata": {
        "colab": {
          "base_uri": "https://localhost:8080/"
        },
        "id": "lfj6YhkdW_mD",
        "outputId": "8b7a9840-b9e8-42cd-cb25-265538b143f2"
      },
      "execution_count": null,
      "outputs": [
        {
          "output_type": "stream",
          "name": "stdout",
          "text": [
            "\" It' s the last he painted, you know,\" Mrs. Gisburn said with pardonable pride.\n"
          ]
        }
      ]
    },
    {
      "cell_type": "markdown",
      "source": [
        "**Handling Out-of-Vocabulary (OOV) Words**\n",
        "\n",
        "What if we try to encode new text not present in the training story?"
      ],
      "metadata": {
        "id": "cB_m7sGZXM7U"
      }
    },
    {
      "cell_type": "code",
      "source": [
        "text = \"Hello, do you like tea?\"\n",
        "print(tokenizer.encode(text))"
      ],
      "metadata": {
        "colab": {
          "base_uri": "https://localhost:8080/",
          "height": 280
        },
        "id": "jkEmMNdWXRZb",
        "outputId": "c63474b2-49ee-4290-9de3-d33d5ef1890c"
      },
      "execution_count": null,
      "outputs": [
        {
          "output_type": "error",
          "ename": "KeyError",
          "evalue": "'Hello'",
          "traceback": [
            "\u001b[0;31m---------------------------------------------------------------------------\u001b[0m",
            "\u001b[0;31mKeyError\u001b[0m                                  Traceback (most recent call last)",
            "\u001b[0;32m/tmp/ipython-input-1763555282.py\u001b[0m in \u001b[0;36m<cell line: 0>\u001b[0;34m()\u001b[0m\n\u001b[1;32m      1\u001b[0m \u001b[0mtext\u001b[0m \u001b[0;34m=\u001b[0m \u001b[0;34m\"Hello, do you like tea?\"\u001b[0m\u001b[0;34m\u001b[0m\u001b[0;34m\u001b[0m\u001b[0m\n\u001b[0;32m----> 2\u001b[0;31m \u001b[0mprint\u001b[0m\u001b[0;34m(\u001b[0m\u001b[0mtokenizer\u001b[0m\u001b[0;34m.\u001b[0m\u001b[0mencode\u001b[0m\u001b[0;34m(\u001b[0m\u001b[0mtext\u001b[0m\u001b[0;34m)\u001b[0m\u001b[0;34m)\u001b[0m\u001b[0;34m\u001b[0m\u001b[0;34m\u001b[0m\u001b[0m\n\u001b[0m",
            "\u001b[0;32m/tmp/ipython-input-3511744455.py\u001b[0m in \u001b[0;36mencode\u001b[0;34m(self, text)\u001b[0m\n\u001b[1;32m     14\u001b[0m \u001b[0;34m\u001b[0m\u001b[0m\n\u001b[1;32m     15\u001b[0m         \u001b[0;31m# Step 2: Convert tokens into IDs\u001b[0m\u001b[0;34m\u001b[0m\u001b[0;34m\u001b[0m\u001b[0m\n\u001b[0;32m---> 16\u001b[0;31m         \u001b[0mids\u001b[0m \u001b[0;34m=\u001b[0m \u001b[0;34m[\u001b[0m\u001b[0mself\u001b[0m\u001b[0;34m.\u001b[0m\u001b[0mstr_to_int\u001b[0m\u001b[0;34m[\u001b[0m\u001b[0ms\u001b[0m\u001b[0;34m]\u001b[0m \u001b[0;32mfor\u001b[0m \u001b[0ms\u001b[0m \u001b[0;32min\u001b[0m \u001b[0mpreprocessed\u001b[0m\u001b[0;34m]\u001b[0m\u001b[0;34m\u001b[0m\u001b[0;34m\u001b[0m\u001b[0m\n\u001b[0m\u001b[1;32m     17\u001b[0m         \u001b[0;32mreturn\u001b[0m \u001b[0mids\u001b[0m\u001b[0;34m\u001b[0m\u001b[0;34m\u001b[0m\u001b[0m\n\u001b[1;32m     18\u001b[0m \u001b[0;34m\u001b[0m\u001b[0m\n",
            "\u001b[0;31mKeyError\u001b[0m: 'Hello'"
          ]
        }
      ]
    },
    {
      "cell_type": "markdown",
      "source": [
        "**Problem:**\n",
        "The word \"Hello\" was never in our training text.\n",
        "Since \"Hello\" does not exist in the vocabulary, Python will throw a KeyError.\n",
        "\n",
        " This is a fundamental limitation: small vocabularies cannot handle unseen words."
      ],
      "metadata": {
        "id": "s6z0OUOrXVCG"
      }
    },
    {
      "cell_type": "markdown",
      "source": [
        "### ADDING SPECIAL CONTEXT TOKENS\n",
        "In the previous section, we implemented a simple tokenizer and applied it to a passage from the training set.\n",
        "\n",
        "In this section, we will modify this tokenizer to handle unknown words.\n",
        "\n",
        "In this step, we extend our tokenizer to handle special cases:\n",
        "\n",
        "<|unk|> → used when a token (word or symbol) is not present in our vocabulary.\n",
        "\n",
        "<|endoftext|> → used to separate unrelated texts (important when training on multiple documents).\n",
        "\n",
        "Why this matters:\n",
        "\n",
        "Without <|unk|>, any unseen word cannot be encoded → the model fails to handle it.\n",
        "\n",
        "Without <|endoftext|>, multiple books or documents get merged into one continuous text, which confuses the model about boundaries."
      ],
      "metadata": {
        "id": "gj_pbPjPgSYW"
      }
    },
    {
      "cell_type": "code",
      "source": [
        "# Extend vocab with special tokens\n",
        "all_tokens = sorted(list(set(preprocessed)))\n",
        "all_tokens.extend([\"<|endoftext|>\", \"<|unk|>\"])\n",
        "\n",
        "vocab = {token: integer for integer, token in enumerate(all_tokens)}\n",
        "\n",
        "print(\"Vocab size:\", len(vocab))\n",
        "print(\"Last few vocab entries:\", list(vocab.items())[-5:])"
      ],
      "metadata": {
        "colab": {
          "base_uri": "https://localhost:8080/"
        },
        "id": "S5Oahp3qgVdH",
        "outputId": "99fb61b3-ae8a-4f83-b80a-22569ab07d29"
      },
      "execution_count": null,
      "outputs": [
        {
          "output_type": "stream",
          "name": "stdout",
          "text": [
            "Vocab size: 1132\n",
            "Last few vocab entries: [('younger', 1127), ('your', 1128), ('yourself', 1129), ('<|endoftext|>', 1130), ('<|unk|>', 1131)]\n"
          ]
        }
      ]
    },
    {
      "cell_type": "markdown",
      "source": [
        "We now implement a tokenizer that:\n",
        "\n",
        "Splits text into tokens (words, punctuation, whitespace).\n",
        "\n",
        "Replaces unknown tokens with <|unk|>.\n",
        "\n",
        "Encodes them into integer IDs.\n",
        "\n",
        "Decodes them back into text, while removing extra spaces before punctuation."
      ],
      "metadata": {
        "id": "3QHpcZ56ggg9"
      }
    },
    {
      "cell_type": "code",
      "source": [
        "class SimpleTokenizerV2:\n",
        "    def __init__(self, vocab):\n",
        "        self.str_to_int = vocab\n",
        "        self.int_to_str = { i:s for s,i in vocab.items()}\n",
        "\n",
        "    def encode(self, text):\n",
        "        preprocessed = re.split(r'([,.:;?_!\"()\\']|--|\\s)', text)\n",
        "        preprocessed = [item.strip() for item in preprocessed if item.strip()]\n",
        "        preprocessed = [\n",
        "            item if item in self.str_to_int\n",
        "            else \"<|unk|>\" for item in preprocessed\n",
        "        ]\n",
        "\n",
        "        ids = [self.str_to_int[s] for s in preprocessed]\n",
        "        return ids\n",
        "\n",
        "    def decode(self, ids):\n",
        "        text = \" \".join([self.int_to_str[i] for i in ids])\n",
        "        # Replace spaces before the specified punctuations\n",
        "        text = re.sub(r'\\s+([,.:;?!\"()\\'])', r'\\1', text)\n",
        "        return text"
      ],
      "metadata": {
        "id": "fbrXk5aHgj1g"
      },
      "execution_count": null,
      "outputs": []
    },
    {
      "cell_type": "code",
      "source": [
        "tokenizer = SimpleTokenizerV2(vocab)\n",
        "\n",
        "text1 = \"Hello, do you like tea?\"\n",
        "text2 = \"In the sunlit terraces of the palace.\"\n",
        "\n",
        "text = \" <|endoftext|> \".join((text1, text2))\n",
        "\n",
        "print(text)"
      ],
      "metadata": {
        "colab": {
          "base_uri": "https://localhost:8080/"
        },
        "id": "V_tO-14Igvu4",
        "outputId": "7be4b632-e9eb-4365-a30e-f8420292a96e"
      },
      "execution_count": null,
      "outputs": [
        {
          "output_type": "stream",
          "name": "stdout",
          "text": [
            "Hello, do you like tea? <|endoftext|> In the sunlit terraces of the palace.\n"
          ]
        }
      ]
    },
    {
      "cell_type": "markdown",
      "source": [
        "**Observations**\n",
        "\n",
        "Unknown handling: Words missing from the training set are collapsed into <|unk|>.\n",
        "\n",
        "Separation: <|endoftext|> ensures document boundaries are explicit.\n",
        "\n",
        "Vocabulary growth: Adding just two tokens increased vocab size from 1130 → 1132.\n",
        "\n",
        "Trade-off: This system works, but <|unk|> loses information. For example, \"palace\" becomes completely indistinguishable from \"Hello\"."
      ],
      "metadata": {
        "id": "CZAaaSUWgsFY"
      }
    },
    {
      "cell_type": "markdown",
      "source": [
        "So far, we have discussed tokenization as an essential step in processing text as input to LLMs. Depending on the LLM, some researchers also consider additional special tokens such as the following:\n",
        "\n",
        "[BOS] (beginning of sequence): This token marks the start of a text. It signifies to the LLM where a piece of content begins.\n",
        "\n",
        "[EOS] (end of sequence): This token is positioned at the end of a text, and is especially useful when concatenating multiple unrelated texts, similar to <|endoftext|>. For instance, when combining two different Wikipedia articles or books, the [EOS] token indicates where one article ends and the next one begins.\n",
        "\n",
        "[PAD] (padding): When training LLMs with batch sizes larger than one, the batch might contain texts of varying lengths. To ensure all texts have the same length, the shorter texts are extended or \"padded\" using the [PAD] token, up to the length of the longest text in the batch.\n",
        "\n",
        "Note that the tokenizer used for GPT models does not need any of these tokens mentioned above but only uses an <|endoftext|> token for simplicity\n",
        "\n",
        "the tokenizer used for GPT models also doesn't use an <|unk|> token for outof-vocabulary words. Instead, GPT models use a byte pair encoding tokenizer, which breaks down words into subword units"
      ],
      "metadata": {
        "id": "tVWupyS1hFK0"
      }
    },
    {
      "cell_type": "markdown",
      "source": [
        "### Byte-Pair Encoding"
      ],
      "metadata": {
        "id": "oC9OHxhVhN4V"
      }
    },
    {
      "cell_type": "markdown",
      "source": [
        "In previous sections, our SimpleTokenizerV2 used <|unk|> to handle unknown words. This meant we lost information whenever a word was unseen.\n",
        "\n",
        "Modern LLMs avoid <|unk|> entirely by using Byte Pair Encoding (BPE).\n",
        "\n",
        "Key idea:\n",
        "\n",
        "* Break words into subword units instead of replacing them with <|unk|>.\n",
        "\n",
        "* Frequently used words stay intact (\"hello\" → one token).\n",
        "\n",
        "* Rare or unknown words are broken into sub-parts (\"someunknownPlace\" → \"some\" + \"unknown\" + \"Place\").\n",
        "\n",
        "* Every text can always be encoded, since the fallback is at the byte/character level.\n",
        "\n",
        "GPT-2, GPT-3, and early ChatGPT models all use this scheme, implemented efficiently in the tiktoken library."
      ],
      "metadata": {
        "id": "bjMhn25NcqHy"
      }
    },
    {
      "cell_type": "code",
      "source": [
        "! pip3 install tiktoken"
      ],
      "metadata": {
        "colab": {
          "base_uri": "https://localhost:8080/"
        },
        "id": "No4f3NxLdBz4",
        "outputId": "8421ab56-8b85-4d85-f251-62cad2e36618"
      },
      "execution_count": null,
      "outputs": [
        {
          "output_type": "stream",
          "name": "stdout",
          "text": [
            "Requirement already satisfied: tiktoken in /usr/local/lib/python3.12/dist-packages (0.11.0)\n",
            "Requirement already satisfied: regex>=2022.1.18 in /usr/local/lib/python3.12/dist-packages (from tiktoken) (2024.11.6)\n",
            "Requirement already satisfied: requests>=2.26.0 in /usr/local/lib/python3.12/dist-packages (from tiktoken) (2.32.4)\n",
            "Requirement already satisfied: charset_normalizer<4,>=2 in /usr/local/lib/python3.12/dist-packages (from requests>=2.26.0->tiktoken) (3.4.3)\n",
            "Requirement already satisfied: idna<4,>=2.5 in /usr/local/lib/python3.12/dist-packages (from requests>=2.26.0->tiktoken) (3.10)\n",
            "Requirement already satisfied: urllib3<3,>=1.21.1 in /usr/local/lib/python3.12/dist-packages (from requests>=2.26.0->tiktoken) (2.5.0)\n",
            "Requirement already satisfied: certifi>=2017.4.17 in /usr/local/lib/python3.12/dist-packages (from requests>=2.26.0->tiktoken) (2025.8.3)\n"
          ]
        }
      ]
    },
    {
      "cell_type": "code",
      "source": [
        "import tiktoken\n",
        "import importlib\n",
        "\n",
        "# Load GPT-2 BPE tokenizer\n",
        "tokenizer = tiktoken.get_encoding(\"gpt2\")\n",
        "\n",
        "print(\"tiktoken version:\", importlib.metadata.version(\"tiktoken\"))\n",
        "print(\"Vocabulary size:\", tokenizer.n_vocab)  # should be 50,257"
      ],
      "metadata": {
        "colab": {
          "base_uri": "https://localhost:8080/"
        },
        "id": "50_0F66uc7Pk",
        "outputId": "a417330a-2fc6-44b3-8106-bb955d11602f"
      },
      "execution_count": null,
      "outputs": [
        {
          "output_type": "stream",
          "name": "stdout",
          "text": [
            "tiktoken version: 0.11.0\n",
            "Vocabulary size: 50257\n"
          ]
        }
      ]
    },
    {
      "cell_type": "markdown",
      "source": [
        "Notice that the GPT-2 BPE tokenizer has a vocabulary size of 50,257.\n",
        "The very last ID (50256) is reserved for the special <|endoftext|> token."
      ],
      "metadata": {
        "id": "hbLXteA4dPAY"
      }
    },
    {
      "cell_type": "code",
      "source": [
        "text = \"Hello, do you like tea? <|endoftext|> In the sunlit terraces of someunknownPlace.\"\n",
        "\n",
        "# Encode with BPE\n",
        "ids = tokenizer.encode(text, allowed_special={\"<|endoftext|>\"})\n",
        "decoded = tokenizer.decode(ids)\n",
        "\n",
        "print(\"Original text:\", text)\n",
        "print(\"Token IDs:\", ids)\n",
        "print(\"Decoded text:\", decoded)"
      ],
      "metadata": {
        "colab": {
          "base_uri": "https://localhost:8080/"
        },
        "id": "q_hBNVSBdP8x",
        "outputId": "84a0a49d-2a84-48a9-bdc2-72f4c5681edb"
      },
      "execution_count": null,
      "outputs": [
        {
          "output_type": "stream",
          "name": "stdout",
          "text": [
            "Original text: Hello, do you like tea? <|endoftext|> In the sunlit terraces of someunknownPlace.\n",
            "Token IDs: [15496, 11, 466, 345, 588, 8887, 30, 220, 50256, 554, 262, 4252, 18250, 8812, 2114, 286, 617, 34680, 27271, 13]\n",
            "Decoded text: Hello, do you like tea? <|endoftext|> In the sunlit terraces of someunknownPlace.\n"
          ]
        }
      ]
    },
    {
      "cell_type": "markdown",
      "source": [
        "Observations\n",
        "\n",
        "<|endoftext|> gets ID 50256, the last entry in the vocabulary.\n",
        "\n",
        "\"someunknownPlace\" is not in vocabulary, but BPE breaks it into multiple valid subwords.\n",
        "\n",
        "Unlike our earlier tokenizer, no <|unk|> symbol is used — information is preserved."
      ],
      "metadata": {
        "id": "M_Y-QInodjgI"
      }
    },
    {
      "cell_type": "code",
      "source": [
        "ids2 = tokenizer.encode(\"Akwirw ier\")\n",
        "decoded2 = tokenizer.decode(ids2)\n",
        "\n",
        "print(\"Token IDs:\", ids2)\n",
        "print(\"Decoded text:\", decoded2)"
      ],
      "metadata": {
        "colab": {
          "base_uri": "https://localhost:8080/"
        },
        "id": "G9OztgdhdiwP",
        "outputId": "9199030c-edf3-43cb-eb39-ea501051d538"
      },
      "execution_count": null,
      "outputs": [
        {
          "output_type": "stream",
          "name": "stdout",
          "text": [
            "Token IDs: [33901, 86, 343, 86, 220, 959]\n",
            "Decoded text: Akwirw ier\n"
          ]
        }
      ]
    },
    {
      "cell_type": "markdown",
      "source": [
        "\"Akwirw\" is unknown → split into smaller subword units.\n",
        "\n",
        "\"ier\" may be recognized as a frequent suffix and encoded directly.\n",
        "\n",
        "The decoded output matches the original, proving no information was lost."
      ],
      "metadata": {
        "id": "_ED1gQXueF5I"
      }
    },
    {
      "cell_type": "code",
      "source": [
        "def visualize_bpe(text):\n",
        "    ids = tokenizer.encode(text)\n",
        "    tokens = [tokenizer.decode([i]) for i in ids]\n",
        "\n",
        "    print(\"Text:\", text)\n",
        "    print(\"Token IDs:\", ids)\n",
        "    print(\"Tokens:\", tokens)\n",
        "\n",
        "    # Plot\n",
        "    import matplotlib.pyplot as plt\n",
        "    plt.figure(figsize=(10,3))\n",
        "    plt.bar(range(len(tokens)), [len(t) for t in tokens], tick_label=tokens, color=\"skyblue\")\n",
        "    plt.title(f\"BPE Token Splits for: {text}\")\n",
        "    plt.ylabel(\"Token Length (characters)\")\n",
        "    plt.show()\n",
        "\n",
        "visualize_bpe(\"someunknownPlace\")\n",
        "visualize_bpe(\"Akwirw ier\")"
      ],
      "metadata": {
        "colab": {
          "base_uri": "https://localhost:8080/",
          "height": 715
        },
        "id": "scXxUae5eM6S",
        "outputId": "98be9638-624d-4ad4-b3cb-7209b5373e3e"
      },
      "execution_count": null,
      "outputs": [
        {
          "output_type": "stream",
          "name": "stdout",
          "text": [
            "Text: someunknownPlace\n",
            "Token IDs: [11246, 34680, 27271]\n",
            "Tokens: ['some', 'unknown', 'Place']\n"
          ]
        },
        {
          "output_type": "display_data",
          "data": {
            "text/plain": [
              "<Figure size 1000x300 with 1 Axes>"
            ],
            "image/png": "[encoded data removed]"
          },
          "metadata": {}
        },
        {
          "output_type": "stream",
          "name": "stdout",
          "text": [
            "Text: Akwirw ier\n",
            "Token IDs: [33901, 86, 343, 86, 220, 959]\n",
            "Tokens: ['Ak', 'w', 'ir', 'w', ' ', 'ier']\n"
          ]
        },
        {
          "output_type": "display_data",
          "data": {
            "text/plain": [
              "<Figure size 1000x300 with 1 Axes>"
            ],
            "image/png": "[encoded data removed]"
          },
          "metadata": {}
        }
      ]
    },
    {
      "cell_type": "markdown",
      "source": [
        "Subword decomposition: Unknown words get split into manageable, known pieces.\n",
        "\n",
        "Consistency: Frequent tokens like \"ier\" or \"some\" appear across contexts.\n",
        "\n",
        "No <|unk|>: Every input is guaranteed to be representable.\n",
        "\n",
        "Scalability: With ~50k tokens, BPE balances efficiency and flexibility."
      ],
      "metadata": {
        "id": "6hqfB6H_eRV3"
      }
    },
    {
      "cell_type": "markdown",
      "source": [
        "We can make two noteworthy observations based on the token IDs and decoded text above.\n",
        "\n",
        "First, the <|endoftext|> token is assigned a relatively large token ID, namely, 50256.\n",
        "\n",
        "In fact, the BPE tokenizer, which was used to train models such as GPT-2, GPT-3, and the original model used in ChatGPT, has a total vocabulary size of 50,257, with <|endoftext|> being assigned the largest token ID.\n",
        "\n",
        "Second, the BPE tokenizer above encodes and decodes unknown words, such as \"someunknownPlace\" correctly.\n",
        "\n",
        "The BPE tokenizer can handle any unknown word. How does it achieve this without using <|unk|> tokens?\n",
        "\n",
        "The algorithm underlying BPE breaks down words that aren't in its predefined vocabulary into smaller subword units or even individual characters.\n",
        "\n",
        "The enables it to handle out-ofvocabulary words.\n",
        "\n",
        "So, thanks to the BPE algorithm, if the tokenizer encounters an unfamiliar word during tokenization, it can represent it as a sequence of subword tokens or characters"
      ],
      "metadata": {
        "id": "r7ZJJRG_eZ-u"
      }
    },
    {
      "cell_type": "markdown",
      "source": [
        "**Byte-Pair Encoding (BPE) — in-depth theory + worked example (Scratch)**\n",
        "High-level summary (again): Start with symbol inventory = characters (or bytes). Represent each word as sequence of symbols plus an end-of-word marker (e.g., </w>). At each step:\n",
        "\n",
        "Count all adjacent symbol pairs across the vocabulary and their frequencies.\n",
        "Pick the most frequent pair and merge it into a new symbol (concatenate).\n",
        "Repeat for N merges (hyperparameter controls final vocab granularity).\n",
        "Why add </w>? Without an end-of-word marker, merges could accidentally combine characters across word boundaries when we treat the whole corpus differently. The marker preserves word boundaries in training representation.\n",
        "\n",
        "Worked mini-example: Corpus: ['low', 'lower', 'lowest', 'newer'] (show full merge steps conceptually).\n",
        "\n",
        "Initialize: l o w </w>, l o w e r </w>, l o w e s t </w>, n e w e r </w>.\n",
        "Count pairs, find highest frequency pair (e.g., l o maybe) and merge -> lo w </w> etc.\n",
        "After a few merges you may obtain subwords like low, low er, new er depending on frequencies. Result: subwords capture frequent morphemes and decrease sequence length for common tokens."
      ],
      "metadata": {
        "id": "BJanysxCee7Z"
      }
    },
    {
      "cell_type": "code",
      "source": [
        "# ============================================\n",
        "# STEP 1 — Raw text\n",
        "# ============================================\n",
        "text = (\n",
        "    \"Hello, do you like tea? <|endoftext|> In the sunlit terraces \"\n",
        "    \"of someunknownPlace.\"\n",
        ")\n",
        "\n",
        "# ============================================\n",
        "# STEP 2 — Whitespace tokenization\n",
        "# ============================================\n",
        "# We split on spaces to get basic words (no punctuation cleaning for now).\n",
        "ws_tokens = text.split()\n",
        "\n",
        "print(\"Whitespace tokens:\", ws_tokens)\n",
        "\n",
        "# ============================================\n",
        "# STEP 3 — Word frequency counts\n",
        "# ============================================\n",
        "from collections import Counter\n",
        "ws_counts = Counter(ws_tokens)\n",
        "\n",
        "print(\"Top word frequencies:\", ws_counts.most_common(5))\n",
        "\n",
        "# ============================================\n",
        "# STEP 4 — Character-level BPE training\n",
        "# ============================================\n",
        "from collections import Counter\n",
        "\n",
        "def get_vocab_from_words(words):\n",
        "    vocab = Counter()\n",
        "    for w in words:\n",
        "        chars = list(w)\n",
        "        token = tuple(chars + ['</w>'])  # </w> = word boundary\n",
        "        vocab[token] += 1\n",
        "    return vocab\n",
        "\n",
        "def get_pair_stats(vocab):\n",
        "    pairs = Counter()\n",
        "    for word, freq in vocab.items():\n",
        "        symbols = list(word)\n",
        "        for i in range(len(symbols)-1):\n",
        "            pairs[(symbols[i], symbols[i+1])] += freq\n",
        "    return pairs\n",
        "\n",
        "def merge_vocab_once(vocab, pair_to_merge):\n",
        "    a, b = pair_to_merge\n",
        "    new_vocab = Counter()\n",
        "    for word, freq in vocab.items():\n",
        "        symbols = list(word)\n",
        "        i = 0\n",
        "        new_symbols = []\n",
        "        while i < len(symbols):\n",
        "            if i < len(symbols)-1 and symbols[i] == a and symbols[i+1] == b:\n",
        "                new_symbols.append(a+b)\n",
        "                i += 2\n",
        "            else:\n",
        "                new_symbols.append(symbols[i])\n",
        "                i += 1\n",
        "        new_vocab[tuple(new_symbols)] += freq\n",
        "    return new_vocab\n",
        "\n",
        "def bpe_train_char(words, num_merges=100):\n",
        "    vocab = get_vocab_from_words(words)\n",
        "    merges = []\n",
        "    vocab_sizes = [sum(len(w) for w in vocab)]\n",
        "    for step in range(num_merges):\n",
        "        pairs = get_pair_stats(vocab)\n",
        "        if not pairs:\n",
        "            break\n",
        "        best_pair, best_freq = pairs.most_common(1)[0]\n",
        "        merges.append(best_pair)\n",
        "        vocab = merge_vocab_once(vocab, best_pair)\n",
        "        vocab_sizes.append(sum(len(w) for w in vocab))\n",
        "    return merges, vocab, vocab_sizes\n",
        "\n",
        "# ============================================\n",
        "# STEP 5 — Train BPE\n",
        "# ============================================\n",
        "# We select all unique words from whitespace tokens\n",
        "unique_words = list(set(ws_tokens))\n",
        "\n",
        "# Keep top-N most frequent words (all in this toy example)\n",
        "train_words = sorted(unique_words, key=lambda w: -ws_counts[w])\n",
        "\n",
        "char_merges, char_final_vocab, char_vocab_sizes = bpe_train_char(train_words, num_merges=50)\n",
        "\n",
        "print(\"Learned char-level merges:\", len(char_merges))\n",
        "print(\"Sample (first 10) merges:\", char_merges[:10])"
      ],
      "metadata": {
        "colab": {
          "base_uri": "https://localhost:8080/"
        },
        "id": "9ts6x5jfgWMZ",
        "outputId": "61467a6b-ab0a-42b7-8f1c-535f316342b3"
      },
      "execution_count": null,
      "outputs": [
        {
          "output_type": "stream",
          "name": "stdout",
          "text": [
            "Whitespace tokens: ['Hello,', 'do', 'you', 'like', 'tea?', '<|endoftext|>', 'In', 'the', 'sunlit', 'terraces', 'of', 'someunknownPlace.']\n",
            "Top word frequencies: [('Hello,', 1), ('do', 1), ('you', 1), ('like', 1), ('tea?', 1)]\n",
            "Learned char-level merges: 50\n",
            "Sample (first 10) merges: [('t', 'e'), ('u', 'n'), ('l', 'i'), ('e', '</w>'), ('a', 'c'), ('ac', 'e'), ('d', 'o'), ('s', 'un'), ('sun', 'li'), ('sunli', 't')]\n"
          ]
        }
      ]
    },
    {
      "cell_type": "markdown",
      "source": [
        "### Byte-level BPE\n",
        "\n"
      ],
      "metadata": {
        "id": "cWuTI42Ogmwf"
      }
    },
    {
      "cell_type": "markdown",
      "source": [
        "In standard BPE, tokenization is usually based on Unicode characters (words, subwords).\n",
        "\n",
        "Byte-level BPE instead works directly at the byte level (raw UTF-8 encoded bytes).\n",
        "\n",
        "This means:\n",
        "\n",
        "* Every token corresponds to a sequence of bytes.\n",
        "\n",
        "* No dependency on Unicode or language-specific preprocessing.\n",
        "\n",
        "* Handles any language and even emojis or corrupted text."
      ],
      "metadata": {
        "id": "VqaxWdO1gpvH"
      }
    },
    {
      "cell_type": "markdown",
      "source": [
        "Why Byte-Level BPE?\n",
        "\n",
        "Advantages:\n",
        "\n",
        "* Language agnostic: Works for any language without extra rules.\n",
        "\n",
        "* Handles out-of-vocabulary words: Breaks unknown words into bytes/subwords.\n",
        "\n",
        "* Consistent handling of rare characters, emojis, punctuation, and special symbols.\n",
        "\n",
        "Disadvantage:\n",
        "\n",
        "* Slightly longer token sequences than standard BPE."
      ],
      "metadata": {
        "id": "2NQ3gCCIgyDJ"
      }
    },
    {
      "cell_type": "markdown",
      "source": [
        "### 📝 Byte Pair Encoding (BPE) vs Byte-Level BPE — Complete Overview\n",
        "\n",
        "We’ll explore both Standard BPE and Byte-Level BPE step-by-step using a mini corpus, with theory and examples in one unified cell.\n",
        "\n",
        "---\n",
        "\n",
        "**Mini Corpus:**\n",
        "```\n",
        "low\n",
        "lowest\n",
        "new\n",
        "newer\n",
        "widest\n",
        "```\n",
        "\n",
        "**Part A — Standard BPE Simulation**\n",
        "\n",
        "1. **Start with characters**\n",
        "   - Treat each word as a sequence of characters + special end-of-word token `</w>`.\n",
        "```\n",
        "low      → l o w </w>\n",
        "lowest   → l o w e s t </w>\n",
        "new      → n e w </w>\n",
        "newer    → n e w e r </w>\n",
        "widest   → w i d e s t </w>\n",
        "```\n",
        "\n",
        "2. **Count pairs**\n",
        "```\n",
        "('l','o'): 2  \n",
        "('o','w'): 2  \n",
        "('w','</w>'): 1  \n",
        "('e','s'): 2  \n",
        "('s','t'): 2\n",
        "```\n",
        "\n",
        "3. **Merge the most frequent pair**\n",
        "   - Merge ('l','o') → \"lo\"\n",
        "```\n",
        "low      → lo w </w>\n",
        "lowest   → lo w e s t </w>\n",
        "new      → n e w </w>\n",
        "newer    → n e w e r </w>\n",
        "widest   → w i d e s t </w>\n",
        "```\n",
        "\n",
        "4. **Repeat merges**\n",
        "   - Next merge: ('lo','w') → \"low\"\n",
        "```\n",
        "low      → low </w>\n",
        "lowest   → low e s t </w>\n",
        "new      → n e w </w>\n",
        "newer    → n e w e r </w>\n",
        "widest   → w i d e s t </w>\n",
        "```\n",
        "   - Next merge: ('e','s') → \"es\"\n",
        "```\n",
        "low      → low </w>\n",
        "lowest   → low es t </w>\n",
        "new      → n e w </w>\n",
        "newer    → n e w e r </w>\n",
        "widest   → w i d es t </w>\n",
        "```\n",
        "Continue until desired vocabulary size is reached.\n",
        "\n",
        "**Example resulting vocabulary:**\n",
        "```\n",
        "[\"low\", \"es\", \"t\", \"n\", \"e\", \"w\", \"er\", \"wid\", \"est\"]\n",
        "```\n",
        "\n",
        "**Part B — Byte-Level BPE Simulation**\n",
        "\n",
        "1. **Convert words to UTF-8 bytes**\n",
        "```\n",
        "\"low\"      → [108, 111, 119]\n",
        "\"lowest\"   → [108, 111, 119, 101, 115, 116]\n",
        "\"new\"      → [110, 101, 119]\n",
        "\"newer\"    → [110, 101, 119, 101, 114]\n",
        "\"widest\"   → [119, 105, 100, 101, 115, 116]\n",
        "```\n",
        "\n",
        "2. **Count adjacent byte pairs**\n",
        "```\n",
        "(108,111): 2\n",
        "(111,119): 2\n",
        "(119,101): 2\n",
        "(101,115): 2\n",
        "(115,116): 2\n",
        "```\n",
        "\n",
        "3. **Merge the most frequent pair**\n",
        "   - Merge (108,111) → tokenA\n",
        "```\n",
        "\"low\"      → [tokenA, 119]\n",
        "\"lowest\"   → [tokenA, 119, 101, 115, 116]\n",
        "\"new\"      → [110, 101, 119]\n",
        "\"newer\"    → [110, 101, 119, 101, 114]\n",
        "\"widest\"   → [119, 105, 100, 101, 115, 116]\n",
        "```\n",
        "\n",
        "4. **Repeat merges**\n",
        "   - Merge (tokenA,119) → tokenB\n",
        "```\n",
        "\"low\"      → [tokenB]\n",
        "\"lowest\"   → [tokenB, 101, 115, 116]\n",
        "\"new\"      → [110, 101, 119]\n",
        "\"newer\"    → [110, 101, 119, 101, 114]\n",
        "\"widest\"   → [119, 105, 100, 101, 115, 116]\n",
        "```\n",
        "   - Merge (101,115) → tokenC\n",
        "```\n",
        "\"low\"      → [tokenB]\n",
        "\"lowest\"   → [tokenB, tokenC, 116]\n",
        "\"new\"      → [110, 101, 119]\n",
        "\"newer\"    → [110, 101, 119, 101, 114]\n",
        "\"widest\"   → [119, 105, 100, tokenC, 116]\n",
        "```\n",
        "\n",
        "Continue until target vocabulary size is reached.\n",
        "\n",
        "**Example resulting vocabulary:**\n",
        "```\n",
        "[tokenB, tokenC, tokenD, tokenE, tokenF, ...]\n",
        "```\n",
        "\n",
        "**Part C — Side-by-Side Summary**\n",
        "\n",
        "| Step          | Standard BPE                 | Byte-Level BPE                      |\n",
        "|---------------|--------------------------------|--------------------------------------|\n",
        "| Input unit    | Characters + `</w>`         | Bytes                                |\n",
        "| Merge process | Characters or subwords       | Byte pairs                           |\n",
        "| Vocabulary    | Subwords                     | Byte sequences                       |\n",
        "| Example       | \"lowest\" → [\"low\",\"est\"]| \"lowest\" → [tokenB, tokenC, 116]  |\n",
        "| Language      | Needs Unicode preprocessing  | Works with any language/encoding    |\n",
        "\n",
        "**Big Takeaway:**\n",
        "The main difference is the base unit:\n",
        "- Standard BPE → characters\n",
        "- Byte-Level BPE → bytes\n",
        "\n",
        "Byte-Level BPE is encoding-agnostic and works for any language without extra preprocessing.\n"
      ],
      "metadata": {
        "id": "f0GFh6u-hWmc"
      }
    },
    {
      "cell_type": "code",
      "source": [
        "import collections\n",
        "\n",
        "# ---------- Stage 1 — Prepare corpus ----------\n",
        "corpus = [\n",
        "    \"low\",\n",
        "    \"lowest\",\n",
        "    \"new\",\n",
        "    \"newer\",\n",
        "    \"widest\"\n",
        "]\n",
        "\n",
        "# Convert corpus to byte sequences\n",
        "byte_corpus = [list(word.encode(\"utf-8\")) for word in corpus]\n",
        "\n",
        "print(\"Initial byte representation:\")\n",
        "for word, byte_seq in zip(corpus, byte_corpus):\n",
        "    print(f\"{word}: {byte_seq}\")\n",
        "\n",
        "\n",
        "# ---------- Stage 2 — BPE Merge Algorithm ----------\n",
        "def get_pair_frequencies(corpus_bytes):\n",
        "    \"\"\"Count frequencies of adjacent byte pairs.\"\"\"\n",
        "    pairs = collections.Counter()\n",
        "    for word_bytes in corpus_bytes:\n",
        "        for i in range(len(word_bytes) - 1):\n",
        "            pairs[(word_bytes[i], word_bytes[i + 1])] += 1\n",
        "    return pairs\n",
        "\n",
        "def merge_pair(pair, corpus_bytes):\n",
        "    \"\"\"Merge the given pair in corpus.\"\"\"\n",
        "    new_corpus = []\n",
        "    for word_bytes in corpus_bytes:\n",
        "        i = 0\n",
        "        new_word = []\n",
        "        while i < len(word_bytes):\n",
        "            # If pair matches → merge\n",
        "            if i < len(word_bytes) - 1 and (word_bytes[i], word_bytes[i + 1]) == pair:\n",
        "                new_word.append((word_bytes[i], word_bytes[i + 1]))\n",
        "                i += 2\n",
        "            else:\n",
        "                new_word.append(word_bytes[i])\n",
        "                i += 1\n",
        "        new_corpus.append(new_word)\n",
        "    return new_corpus\n",
        "\n",
        "\n",
        "# ---------- Stage 3 — Run BPE ----------\n",
        "vocab = set()\n",
        "merges = []\n",
        "corpus_bytes_current = byte_corpus\n",
        "\n",
        "NUM_MERGES = 5  # Limit merges for demonstration\n",
        "\n",
        "print(\"\\nBPE Merging steps:\")\n",
        "for merge_step in range(NUM_MERGES):\n",
        "    pair_freqs = get_pair_frequencies(corpus_bytes_current)\n",
        "    if not pair_freqs:\n",
        "        break\n",
        "\n",
        "    most_frequent_pair = max(pair_freqs, key=pair_freqs.get)\n",
        "    merges.append(most_frequent_pair)\n",
        "\n",
        "    print(f\"\\nStep {merge_step + 1}: Most frequent pair = {most_frequent_pair} with frequency {pair_freqs[most_frequent_pair]}\")\n",
        "\n",
        "    corpus_bytes_current = merge_pair(most_frequent_pair, corpus_bytes_current)\n",
        "\n",
        "    print(\"Corpus after merge:\")\n",
        "    for i, word in enumerate(corpus_bytes_current):\n",
        "        print(f\"{corpus[i]}: {word}\")\n",
        "\n",
        "    vocab.update(merges)\n",
        "\n",
        "print(\"\\nFinal Vocabulary of Merges:\")\n",
        "print(vocab)"
      ],
      "metadata": {
        "colab": {
          "base_uri": "https://localhost:8080/"
        },
        "id": "LRd8nK_Qhusn",
        "outputId": "b61f437a-7600-4ef4-be46-4bb6c8441d0c"
      },
      "execution_count": null,
      "outputs": [
        {
          "output_type": "stream",
          "name": "stdout",
          "text": [
            "Initial byte representation:\n",
            "low: [108, 111, 119]\n",
            "lowest: [108, 111, 119, 101, 115, 116]\n",
            "new: [110, 101, 119]\n",
            "newer: [110, 101, 119, 101, 114]\n",
            "widest: [119, 105, 100, 101, 115, 116]\n",
            "\n",
            "BPE Merging steps:\n",
            "\n",
            "Step 1: Most frequent pair = (108, 111) with frequency 2\n",
            "Corpus after merge:\n",
            "low: [(108, 111), 119]\n",
            "lowest: [(108, 111), 119, 101, 115, 116]\n",
            "new: [110, 101, 119]\n",
            "newer: [110, 101, 119, 101, 114]\n",
            "widest: [119, 105, 100, 101, 115, 116]\n",
            "\n",
            "Step 2: Most frequent pair = ((108, 111), 119) with frequency 2\n",
            "Corpus after merge:\n",
            "low: [((108, 111), 119)]\n",
            "lowest: [((108, 111), 119), 101, 115, 116]\n",
            "new: [110, 101, 119]\n",
            "newer: [110, 101, 119, 101, 114]\n",
            "widest: [119, 105, 100, 101, 115, 116]\n",
            "\n",
            "Step 3: Most frequent pair = (101, 115) with frequency 2\n",
            "Corpus after merge:\n",
            "low: [((108, 111), 119)]\n",
            "lowest: [((108, 111), 119), (101, 115), 116]\n",
            "new: [110, 101, 119]\n",
            "newer: [110, 101, 119, 101, 114]\n",
            "widest: [119, 105, 100, (101, 115), 116]\n",
            "\n",
            "Step 4: Most frequent pair = ((101, 115), 116) with frequency 2\n",
            "Corpus after merge:\n",
            "low: [((108, 111), 119)]\n",
            "lowest: [((108, 111), 119), ((101, 115), 116)]\n",
            "new: [110, 101, 119]\n",
            "newer: [110, 101, 119, 101, 114]\n",
            "widest: [119, 105, 100, ((101, 115), 116)]\n",
            "\n",
            "Step 5: Most frequent pair = (110, 101) with frequency 2\n",
            "Corpus after merge:\n",
            "low: [((108, 111), 119)]\n",
            "lowest: [((108, 111), 119), ((101, 115), 116)]\n",
            "new: [(110, 101), 119]\n",
            "newer: [(110, 101), 119, 101, 114]\n",
            "widest: [119, 105, 100, ((101, 115), 116)]\n",
            "\n",
            "Final Vocabulary of Merges:\n",
            "{(110, 101), ((101, 115), 116), (101, 115), (108, 111), ((108, 111), 119)}\n"
          ]
        }
      ]
    },
    {
      "cell_type": "markdown",
      "source": [],
      "metadata": {
        "id": "ful1tdY_5Xmc"
      }
    },
    {
      "cell_type": "markdown",
      "source": [
        "**Standard BPE vs Byte-Level BPE**"
      ],
      "metadata": {
        "id": "7vGidGuVicfS"
      }
    },
    {
      "cell_type": "code",
      "source": [
        "import re\n",
        "from collections import Counter\n",
        "import matplotlib.pyplot as plt\n",
        "\n",
        "\n",
        "# -------------------------\n",
        "# Helper: Get vocabulary with counts\n",
        "# -------------------------\n",
        "def get_vocab(corpus):\n",
        "    vocab = Counter()\n",
        "    for word in corpus:\n",
        "        symbols = list(word) + [\"</w>\"]   # word-ending symbol\n",
        "        vocab[tuple(symbols)] += 1\n",
        "    return vocab\n",
        "\n",
        "\n",
        "# -------------------------\n",
        "# Merge most frequent pair\n",
        "# -------------------------\n",
        "def merge_vocab(vocab, pair):\n",
        "    new_vocab = Counter()\n",
        "    bigram = re.escape(' '.join(pair))\n",
        "    pattern = re.compile(r'(?<!\\S)' + bigram + r'(?!\\S)')\n",
        "\n",
        "    for word, freq in vocab.items():\n",
        "        word_str = ' '.join(word)\n",
        "        new_word_str = pattern.sub(''.join(pair), word_str)\n",
        "        new_word = tuple(new_word_str.split())\n",
        "        new_vocab[new_word] = freq\n",
        "    return new_vocab\n",
        "\n",
        "\n",
        "# -------------------------\n",
        "# Standard BPE\n",
        "# -------------------------\n",
        "def standard_bpe(corpus, num_merges=10):\n",
        "    vocab = get_vocab(corpus)\n",
        "    merges = []\n",
        "\n",
        "    for _ in range(num_merges):\n",
        "        # Count pairs\n",
        "        pairs = Counter()\n",
        "        for word, freq in vocab.items():\n",
        "            for i in range(len(word)-1):\n",
        "                pairs[(word[i], word[i+1])] += freq\n",
        "        if not pairs:\n",
        "            break\n",
        "        best = pairs.most_common(1)[0][0]\n",
        "        vocab = merge_vocab(vocab, best)\n",
        "        merges.append(best)\n",
        "    return vocab, merges\n",
        "\n",
        "\n",
        "# -------------------------\n",
        "# Byte-Level BPE\n",
        "# -------------------------\n",
        "def byte_level_bpe(text, num_merges=10):\n",
        "    # Step 1: Represent each character as a byte\n",
        "    tokens = [list(word.encode(\"utf-8\")) + [256] for word in text]  # 256 = </w>\n",
        "    vocab = Counter(tuple(t) for t in tokens)\n",
        "\n",
        "    merges = []\n",
        "    for _ in range(num_merges):\n",
        "        pairs = Counter()\n",
        "        for word, freq in vocab.items():\n",
        "            for i in range(len(word)-1):\n",
        "                pairs[(word[i], word[i+1])] += freq\n",
        "        if not pairs:\n",
        "            break\n",
        "        best = pairs.most_common(1)[0][0]\n",
        "        new_vocab = Counter()\n",
        "        for word, freq in vocab.items():\n",
        "            merged = []\n",
        "            i = 0\n",
        "            while i < len(word):\n",
        "                if i < len(word)-1 and (word[i], word[i+1]) == best:\n",
        "                    merged.append(1000 + len(merges))  # new fake token id\n",
        "                    i += 2\n",
        "                else:\n",
        "                    merged.append(word[i])\n",
        "                    i += 1\n",
        "            new_vocab[tuple(merged)] += freq\n",
        "        vocab = new_vocab\n",
        "        merges.append(best)\n",
        "    return vocab, merges\n",
        "\n",
        "\n",
        "# -------------------------\n",
        "# Visualization\n",
        "# -------------------------\n",
        "def visualize_bpe(corpus):\n",
        "    # Run Standard BPE\n",
        "    std_vocab, std_merges = standard_bpe(corpus, num_merges=10)\n",
        "\n",
        "    # Run Byte-Level BPE\n",
        "    byte_vocab, byte_merges = byte_level_bpe(corpus, num_merges=10)\n",
        "\n",
        "    # Plot merge steps\n",
        "    fig, ax = plt.subplots(1, 2, figsize=(14, 6))\n",
        "\n",
        "    ax[0].set_title(\"Standard BPE Merges\")\n",
        "    ax[0].barh(range(len(std_merges)), [1]*len(std_merges))\n",
        "    ax[0].set_yticks(range(len(std_merges)))\n",
        "    ax[0].set_yticklabels([f\"{a}+{b}\" for a,b in std_merges])\n",
        "    ax[0].invert_yaxis()\n",
        "\n",
        "    ax[1].set_title(\"Byte-Level BPE Merges\")\n",
        "    ax[1].barh(range(len(byte_merges)), [1]*len(byte_merges))\n",
        "    ax[1].set_yticks(range(len(byte_merges)))\n",
        "    ax[1].set_yticklabels([f\"{a}+{b}\" for a,b in byte_merges])\n",
        "    ax[1].invert_yaxis()\n",
        "\n",
        "    plt.show()\n",
        "\n",
        "\n",
        "# -------------------------\n",
        "# Example usage\n",
        "# -------------------------\n",
        "corpus = [\"low\", \"lowest\", \"new\", \"newer\", \"widest\"]\n",
        "visualize_bpe(corpus)"
      ],
      "metadata": {
        "colab": {
          "base_uri": "https://localhost:8080/",
          "height": 545
        },
        "id": "vA2Oj_VhigNj",
        "outputId": "a7f5c0c2-eb82-4ee7-f2a3-558c3bda9cbe"
      },
      "execution_count": null,
      "outputs": [
        {
          "output_type": "display_data",
          "data": {
            "text/plain": [
              "<Figure size 1400x600 with 2 Axes>"
            ],
            "image/png": "[encoded data removed]"
          },
          "metadata": {}
        }
      ]
    },
    {
      "cell_type": "markdown",
      "source": [
        "### Creating Input–Target Pairs\n",
        "\n",
        "After we have a tokenized dataset (from the BPE tokenizer we built earlier), the next step is to structure the data so that it can be used for next-word prediction training.\n",
        "\n",
        "An LLM doesn’t just memorize tokens — it learns to predict the next token given a context. That’s why we must explicitly create input sequences (contexts) and target tokens (the next word/character/subword)."
      ],
      "metadata": {
        "id": "_aMlL49zmtlo"
      }
    },
    {
      "cell_type": "markdown",
      "source": [
        "In this section we implement a data loader that fetches the input-target pairs using a sliding window approach.\n",
        "To get started, we will first tokenize the whole The Verdict short story we worked with earlier using the BPE tokenizer introduced in the previous section:"
      ],
      "metadata": {
        "id": "D5J25_q0nFGg"
      }
    },
    {
      "cell_type": "code",
      "source": [
        "\n",
        "# Encode using BPE tokenizer from previous section\n",
        "enc_text = tokenizer.encode(raw_text)\n",
        "print(\"Total number of tokens in dataset:\", len(enc_text))"
      ],
      "metadata": {
        "colab": {
          "base_uri": "https://localhost:8080/"
        },
        "id": "TUsRJARYnHzM",
        "outputId": "9e2d0b21-607a-43f4-b97c-d77ed5848a15"
      },
      "execution_count": null,
      "outputs": [
        {
          "output_type": "stream",
          "name": "stdout",
          "text": [
            "Total number of tokens in dataset: 5145\n"
          ]
        }
      ]
    },
    {
      "cell_type": "markdown",
      "source": [
        "**Cropping for Demonstration**\n",
        "\n",
        "To make the example more illustrative, we remove the first 50 tokens. This ensures we’re working with a slightly later passage in the story where the text flows naturally."
      ],
      "metadata": {
        "id": "u4L8vHxZnoO8"
      }
    },
    {
      "cell_type": "code",
      "source": [
        "# Remove first 50 tokens for a more interesting example\n",
        "enc_sample = enc_text[50:]\n",
        "print(\"New dataset length after cropping:\", len(enc_sample))"
      ],
      "metadata": {
        "colab": {
          "base_uri": "https://localhost:8080/"
        },
        "id": "P3WrRA29nplX",
        "outputId": "67ab7aec-e80b-4f98-ec41-46dff83278af"
      },
      "execution_count": null,
      "outputs": [
        {
          "output_type": "stream",
          "name": "stdout",
          "text": [
            "New dataset length after cropping: 5095\n"
          ]
        }
      ]
    },
    {
      "cell_type": "markdown",
      "source": [
        "One of the easiest and most intuitive ways to create the input-target pairs for the nextword prediction task is to create two variables, x and y, where x contains the input tokens and y contains the targets, which are the inputs shifted by 1:\n",
        "The context size determines how many tokens are included in the input"
      ],
      "metadata": {
        "id": "nBNUyfNEnz1l"
      }
    },
    {
      "cell_type": "code",
      "source": [
        "context_size = 4 #length of the input\n",
        "#The context_size of 4 means that the model is trained to look at a sequence of 4 words (or tokens)\n",
        "#to predict the next word in the sequence.\n",
        "#The input x is the first 4 tokens [1, 2, 3, 4], and the target y is the next 4 tokens [2, 3, 4, 5]\n",
        "\n",
        "x = enc_sample[:context_size]\n",
        "y = enc_sample[1:context_size+1]\n",
        "\n",
        "print(f\"x: {x}\")\n",
        "print(f\"y:      {y}\")"
      ],
      "metadata": {
        "colab": {
          "base_uri": "https://localhost:8080/"
        },
        "id": "OODo9eLcn1DO",
        "outputId": "bdf3adbb-e145-432d-a858-993578cbaa3d"
      },
      "execution_count": null,
      "outputs": [
        {
          "output_type": "stream",
          "name": "stdout",
          "text": [
            "x: [290, 4920, 2241, 287]\n",
            "y:      [4920, 2241, 287, 257]\n"
          ]
        }
      ]
    },
    {
      "cell_type": "markdown",
      "source": [
        "**Building Context–Target Pairs (Numeric)**\n",
        "\n",
        "We can now explicitly see how inputs map to targets."
      ],
      "metadata": {
        "id": "Y45GOEcmn-3E"
      }
    },
    {
      "cell_type": "code",
      "source": [
        "for i in range(1, context_size+1):\n",
        "    context = enc_sample[:i]     # growing context\n",
        "    desired = enc_sample[i]      # next token\n",
        "    print(context, \"---->\", desired)"
      ],
      "metadata": {
        "colab": {
          "base_uri": "https://localhost:8080/"
        },
        "id": "oPdVjyJZoAoX",
        "outputId": "e9303c37-037d-4596-c1d9-5cb0da610743"
      },
      "execution_count": null,
      "outputs": [
        {
          "output_type": "stream",
          "name": "stdout",
          "text": [
            "[290] ----> 4920\n",
            "[290, 4920] ----> 2241\n",
            "[290, 4920, 2241] ----> 287\n",
            "[290, 4920, 2241, 287] ----> 257\n"
          ]
        }
      ]
    },
    {
      "cell_type": "markdown",
      "source": [
        "Everything left of the arrow (---->) refers to the input an LLM would receive, and the token ID on the right side of the arrow represents the target token ID that the LLM is supposed to predict.\n",
        "For illustration purposes, let's repeat the previous code but convert the token IDs into text:"
      ],
      "metadata": {
        "id": "zHJCPNqKoH82"
      }
    },
    {
      "cell_type": "code",
      "source": [
        "\n",
        "for i in range(1, context_size+1):\n",
        "    context = enc_sample[:i]\n",
        "    desired = enc_sample[i]\n",
        "\n",
        "    print(tokenizer.decode(context), \"---->\", tokenizer.decode([desired]))"
      ],
      "metadata": {
        "colab": {
          "base_uri": "https://localhost:8080/"
        },
        "id": "2dLOwgTMoJDJ",
        "outputId": "5051cc7e-2896-4489-ca99-949b47145386"
      },
      "execution_count": null,
      "outputs": [
        {
          "output_type": "stream",
          "name": "stdout",
          "text": [
            " and ---->  established\n",
            " and established ---->  himself\n",
            " and established himself ---->  in\n",
            " and established himself in ---->  a\n"
          ]
        }
      ]
    },
    {
      "cell_type": "markdown",
      "source": [
        "**Why This Matters (Conceptual Insights)**\n",
        "\n",
        "*Shifted Targets*\n",
        "\n",
        "This shifting mechanism ensures the model learns sequential dependencies.\n",
        "\n",
        "Every input sequence has its target as the very next token.\n",
        "\n",
        "*Growing Context*\n",
        "\n",
        "With context_size=4, we can see how the amount of history provided changes predictions.\n",
        "\n",
        "Larger context sizes allow models to capture longer dependencies.\n",
        "\n",
        "*Scaling Up*\n",
        "\n",
        "In real training, we slide this window over the entire dataset (not just 4 tokens) to produce thousands of input–target pairs.\n",
        "\n",
        "This is the basis of autoregressive training."
      ],
      "metadata": {
        "id": "ddFQDt51oM_R"
      }
    },
    {
      "cell_type": "markdown",
      "source": [
        "**Visualization with Matplotlib**\n",
        "\n",
        "Let’s visualize the context vs. target relationship.\n",
        "We’ll mark contexts as sequences of tokens and their corresponding targets."
      ],
      "metadata": {
        "id": "TSSq5gp_oez1"
      }
    },
    {
      "cell_type": "code",
      "source": [
        "import matplotlib.pyplot as plt\n",
        "import matplotlib.patches as patches\n",
        "\n",
        "# Prepare pairs for visualization\n",
        "pairs = []\n",
        "for i in range(1, context_size+1):\n",
        "    context = tokenizer.decode(enc_sample[:i])\n",
        "    target = tokenizer.decode([enc_sample[i]])\n",
        "    pairs.append((context, target))\n",
        "\n",
        "fig, ax = plt.subplots(figsize=(10, 6))\n",
        "\n",
        "# Hide axes\n",
        "ax.axis(\"off\")\n",
        "\n",
        "# Vertical spacing between steps\n",
        "y_start = 0\n",
        "y_step = -1.5\n",
        "\n",
        "for i, (context, target) in enumerate(pairs):\n",
        "    y = y_start + i * y_step\n",
        "\n",
        "    # Draw context box\n",
        "    context_box = patches.Rectangle((0, y), 6, 1, edgecolor=\"black\", facecolor=\"#d0e6fa\", lw=2)\n",
        "    ax.add_patch(context_box)\n",
        "    ax.text(0.2, y+0.5, f\"Context: {context}\", fontsize=11, va=\"center\", ha=\"left\")\n",
        "\n",
        "    # Draw arrow\n",
        "    ax.arrow(6.2, y+0.5, 1.0, 0, head_width=0.3, head_length=0.3, fc=\"black\", ec=\"black\")\n",
        "\n",
        "    # Draw target box\n",
        "    target_box = patches.Rectangle((7.5, y), 2, 1, edgecolor=\"black\", facecolor=\"#fcd5ce\", lw=2)\n",
        "    ax.add_patch(target_box)\n",
        "    ax.text(8.5, y+0.5, f\"{target}\", fontsize=11, va=\"center\", ha=\"center\")\n",
        "\n",
        "# Title\n",
        "plt.title(\"Visualization of Context → Target Mapping (context_size=4)\", fontsize=14, weight=\"bold\")\n",
        "plt.show()"
      ],
      "metadata": {
        "colab": {
          "base_uri": "https://localhost:8080/"
        },
        "id": "R8PXsa6aohNQ",
        "outputId": "4605fa95-9efa-4ea7-8ca8-522941686be8"
      },
      "execution_count": null,
      "outputs": [
        {
          "output_type": "display_data",
          "data": {
            "text/plain": [
              "<Figure size 1000x600 with 1 Axes>"
            ],
            "image/png": "[encoded data removed]"
          },
          "metadata": {}
        }
      ]
    },
    {
      "cell_type": "markdown",
      "metadata": {
        "id": "vWQepwfOtrwA"
      },
      "source": [
        "### IMPLEMENTING A DATA LOADER"
      ]
    },
    {
      "cell_type": "markdown",
      "metadata": {
        "id": "jCSYNyyntrwA"
      },
      "source": [
        "<div class=\"alert alert-block alert-success\">\n",
        "For the efficient data loader implementation, we will use PyTorch's built-in Dataset and\n",
        "DataLoader classes.</div>"
      ]
    },
    {
      "cell_type": "markdown",
      "metadata": {
        "id": "shL9Y7_LtrwA"
      },
      "source": [
        "<div class=\"alert alert-block alert-info\">\n",
        "    \n",
        "Step 1: Tokenize the entire text\n",
        "    \n",
        "Step 2: Use a sliding window to chunk the book into overlapping sequences of max_length\n",
        "\n",
        "Step 3: Return the total number of rows in the dataset\n",
        "\n",
        "Step 4: Return a single row from the dataset\n",
        "</div>"
      ]
    },
    {
      "cell_type": "code",
      "execution_count": null,
      "metadata": {
        "id": "LH_PefXDtrwA"
      },
      "outputs": [],
      "source": [
        "from torch.utils.data import Dataset, DataLoader\n",
        "\n",
        "\n",
        "class GPTDatasetV1(Dataset):\n",
        "    def __init__(self, txt, tokenizer, max_length, stride):\n",
        "        self.input_ids = []\n",
        "        self.target_ids = []\n",
        "\n",
        "        # Tokenize the entire text\n",
        "        token_ids = tokenizer.encode(txt, allowed_special={\"<|endoftext|>\"})\n",
        "\n",
        "        # Use a sliding window to chunk the book into overlapping sequences of max_length\n",
        "        for i in range(0, len(token_ids) - max_length, stride):\n",
        "            input_chunk = token_ids[i:i + max_length]\n",
        "            target_chunk = token_ids[i + 1: i + max_length + 1]\n",
        "            self.input_ids.append(torch.tensor(input_chunk))\n",
        "            self.target_ids.append(torch.tensor(target_chunk))\n",
        "\n",
        "    def __len__(self):\n",
        "        return len(self.input_ids)\n",
        "\n",
        "    def __getitem__(self, idx):\n",
        "        return self.input_ids[idx], self.target_ids[idx]"
      ]
    },
    {
      "cell_type": "markdown",
      "metadata": {
        "id": "LRKksCT4trwA"
      },
      "source": [
        "<div class=\"alert alert-block alert-warning\">\n",
        "\n",
        "The GPTDatasetV1 class in listing 2.5 is based on the PyTorch Dataset class.\n",
        "\n",
        "It defines how individual rows are fetched from the dataset.\n",
        "\n",
        "Each row consists of a number of\n",
        "token IDs (based on a max_length) assigned to an input_chunk tensor.\n",
        "\n",
        "The target_chunk\n",
        "tensor contains the corresponding targets.\n",
        "\n",
        "I recommend reading on to see how the data\n",
        "returned from this dataset looks like when we combine the dataset with a PyTorch\n",
        "DataLoader -- this will bring additional intuition and clarity.\n",
        "    \n",
        "</div>"
      ]
    },
    {
      "cell_type": "markdown",
      "metadata": {
        "id": "oXmWrOG_trwA"
      },
      "source": [
        "<div class=\"alert alert-block alert-success\">\n",
        "The following code will use the GPTDatasetV1 to load the inputs in batches via a PyTorch\n",
        "DataLoader:</div>"
      ]
    },
    {
      "cell_type": "markdown",
      "metadata": {
        "id": "KUIkTUHytrwA"
      },
      "source": [
        "<div class=\"alert alert-block alert-info\">\n",
        "    \n",
        "Step 1: Initialize the tokenizer\n",
        "\n",
        "Step 2: Create dataset\n",
        "\n",
        "Step 3: drop_last=True drops the last batch if it is shorter than the specified batch_size to prevent loss spikes\n",
        "during training\n",
        "\n",
        "Step 4: The number of CPU processes to use for preprocessing\n",
        "    \n",
        "</div>"
      ]
    },
    {
      "cell_type": "code",
      "execution_count": null,
      "metadata": {
        "id": "lPFWx3-btrwA"
      },
      "outputs": [],
      "source": [
        "def create_dataloader_v1(txt, batch_size=4, max_length=256,\n",
        "                         stride=128, shuffle=True, drop_last=True,\n",
        "                         num_workers=0):\n",
        "\n",
        "    # Initialize the tokenizer\n",
        "    tokenizer = tiktoken.get_encoding(\"gpt2\")\n",
        "\n",
        "    # Create dataset\n",
        "    dataset = GPTDatasetV1(txt, tokenizer, max_length, stride)\n",
        "\n",
        "    # Create dataloader\n",
        "    dataloader = DataLoader(\n",
        "        dataset,\n",
        "        batch_size=batch_size,\n",
        "        shuffle=shuffle,\n",
        "        drop_last=drop_last,\n",
        "        num_workers=num_workers\n",
        "    )\n",
        "\n",
        "    return dataloader"
      ]
    },
    {
      "cell_type": "markdown",
      "metadata": {
        "id": "vH7WZEBXtrwB"
      },
      "source": [
        "<div class=\"alert alert-block alert-success\">\n",
        "    \n",
        "Let's test the dataloader with a batch size of 1 for an LLM with a context size of 4,\n",
        "\n",
        "This will develop an intuition of how the GPTDatasetV1 class and the\n",
        "create_dataloader_v1 function work together: </div>"
      ]
    },
    {
      "cell_type": "code",
      "execution_count": null,
      "metadata": {
        "id": "mgUdRYNwtrwB"
      },
      "outputs": [],
      "source": [
        "with open(\"the-verdict.txt\", \"r\", encoding=\"utf-8\") as f:\n",
        "    raw_text = f.read()"
      ]
    },
    {
      "cell_type": "markdown",
      "metadata": {
        "id": "Kd_d-qU6trwB"
      },
      "source": [
        "<div class=\"alert alert-block alert-info\">\n",
        "    \n",
        "Convert dataloader into a Python iterator to fetch the next entry via Python's built-in next() function\n",
        "    \n",
        "</div>"
      ]
    },
    {
      "cell_type": "code",
      "execution_count": null,
      "metadata": {
        "id": "97wt6r3itrwB",
        "outputId": "509d5c6b-d053-4740-f3f4-7ed4938bada7",
        "colab": {
          "base_uri": "https://localhost:8080/"
        }
      },
      "outputs": [
        {
          "output_type": "stream",
          "name": "stdout",
          "text": [
            "PyTorch version: 2.8.0+cu126\n",
            "[tensor([[  40,  367, 2885, 1464]]), tensor([[ 367, 2885, 1464, 1807]])]\n"
          ]
        }
      ],
      "source": [
        "import torch\n",
        "print(\"PyTorch version:\", torch.__version__)\n",
        "dataloader = create_dataloader_v1(\n",
        "    raw_text, batch_size=1, max_length=4, stride=1, shuffle=False\n",
        ")\n",
        "\n",
        "data_iter = iter(dataloader)\n",
        "first_batch = next(data_iter)\n",
        "print(first_batch)"
      ]
    },
    {
      "cell_type": "markdown",
      "metadata": {
        "id": "7j4ybAbFtrwB"
      },
      "source": [
        "<div class=\"alert alert-block alert-warning\">\n",
        "\n",
        "The first_batch variable contains two tensors: the first tensor stores the input token IDs,\n",
        "and the second tensor stores the target token IDs.\n",
        "\n",
        "Since the max_length is set to 4, each of the two tensors contains 4 token IDs.\n",
        "\n",
        "Note that an input size of 4 is relatively small and only chosen for illustration purposes. It is common to train LLMs with input sizes of at least\n",
        "256.\n",
        "    \n",
        "</div>"
      ]
    },
    {
      "cell_type": "markdown",
      "metadata": {
        "id": "_pG-h6EdtrwB"
      },
      "source": [
        "<div class=\"alert alert-block alert-success\">\n",
        "    \n",
        "To illustrate the meaning of stride=1, let's fetch another batch from this dataset: </div>"
      ]
    },
    {
      "cell_type": "code",
      "execution_count": null,
      "metadata": {
        "id": "QJzWaKsAtrwB",
        "outputId": "83dda9d8-f53f-4893-9b93-2d9674e9063d",
        "colab": {
          "base_uri": "https://localhost:8080/"
        }
      },
      "outputs": [
        {
          "output_type": "stream",
          "name": "stdout",
          "text": [
            "[tensor([[ 367, 2885, 1464, 1807]]), tensor([[2885, 1464, 1807, 3619]])]\n"
          ]
        }
      ],
      "source": [
        "second_batch = next(data_iter)\n",
        "print(second_batch)"
      ]
    },
    {
      "cell_type": "markdown",
      "metadata": {
        "id": "khpY78A5trwB"
      },
      "source": [
        "<div class=\"alert alert-block alert-warning\">\n",
        "\n",
        "If we compare the first with the second batch, we can see that the second batch's token\n",
        "IDs are shifted by one position compared to the first batch.\n",
        "\n",
        "For example, the second ID in\n",
        "the first batch's input is 367, which is the first ID of the second batch's input.\n",
        "\n",
        "The stride\n",
        "setting dictates the number of positions the inputs shift across batches, emulating a sliding\n",
        "window approach\n",
        "    \n",
        "</div>"
      ]
    },
    {
      "cell_type": "markdown",
      "metadata": {
        "id": "84YC8QpttrwB"
      },
      "source": [
        "<div class=\"alert alert-block alert-warning\">\n",
        "\n",
        "Batch sizes of 1, such as we have sampled from the data loader so far, are useful for\n",
        "illustration purposes.\n",
        "                                                                                 \n",
        "If you have previous experience with deep learning, you may know\n",
        "that small batch sizes require less memory during training but lead to more noisy model\n",
        "updates.\n",
        "\n",
        "Just like in regular deep learning, the batch size is a trade-off and hyperparameter\n",
        "to experiment with when training LLMs.\n",
        "    \n",
        "</div>"
      ]
    },
    {
      "cell_type": "markdown",
      "metadata": {
        "id": "vr7sFR99trwB"
      },
      "source": [
        "<div class=\"alert alert-block alert-success\">\n",
        "    \n",
        "Before we move on to the two final sections of this chapter that are focused on creating\n",
        "the embedding vectors from the token IDs, let's have a brief look at how we can use the\n",
        "data loader to sample with a batch size greater than 1: </div>"
      ]
    },
    {
      "cell_type": "code",
      "execution_count": null,
      "metadata": {
        "id": "HD5u1z9gtrwB",
        "outputId": "50dbf2ff-3df0-4ba1-f9e6-887e958463e5",
        "colab": {
          "base_uri": "https://localhost:8080/"
        }
      },
      "outputs": [
        {
          "output_type": "stream",
          "name": "stdout",
          "text": [
            "Inputs:\n",
            " tensor([[   40,   367,  2885,  1464],\n",
            "        [ 1807,  3619,   402,   271],\n",
            "        [10899,  2138,   257,  7026],\n",
            "        [15632,   438,  2016,   257],\n",
            "        [  922,  5891,  1576,   438],\n",
            "        [  568,   340,   373,   645],\n",
            "        [ 1049,  5975,   284,   502],\n",
            "        [  284,  3285,   326,    11]])\n",
            "\n",
            "Targets:\n",
            " tensor([[  367,  2885,  1464,  1807],\n",
            "        [ 3619,   402,   271, 10899],\n",
            "        [ 2138,   257,  7026, 15632],\n",
            "        [  438,  2016,   257,   922],\n",
            "        [ 5891,  1576,   438,   568],\n",
            "        [  340,   373,   645,  1049],\n",
            "        [ 5975,   284,   502,   284],\n",
            "        [ 3285,   326,    11,   287]])\n"
          ]
        }
      ],
      "source": [
        "dataloader = create_dataloader_v1(raw_text, batch_size=8, max_length=4, stride=4, shuffle=False)\n",
        "\n",
        "data_iter = iter(dataloader)\n",
        "inputs, targets = next(data_iter)\n",
        "print(\"Inputs:\\n\", inputs)\n",
        "print(\"\\nTargets:\\n\", targets)"
      ]
    },
    {
      "cell_type": "markdown",
      "metadata": {
        "id": "0nD-H80ktrwB"
      },
      "source": [
        "<div class=\"alert alert-block alert-info\">\n",
        "    \n",
        "Note that we increase the stride to 4. This is to utilize the data set fully (we don't skip a\n",
        "single word) but also avoid any overlap between the batches, since more overlap could lead\n",
        "to increased overfitting.\n",
        "    \n",
        "</div>"
      ]
    },
    {
      "cell_type": "markdown",
      "source": [],
      "metadata": {
        "id": "dj59RgpA5hlA"
      }
    },
    {
      "cell_type": "markdown",
      "metadata": {
        "id": "ahM-EhCYtrwB"
      },
      "source": [
        "### CREATING TOKEN EMBEDDINGS"
      ]
    },
    {
      "cell_type": "markdown",
      "metadata": {
        "id": "qg5U3dgdtrwB"
      },
      "source": [
        "<div class=\"alert alert-block alert-success\">\n",
        "    \n",
        "Let's illustrate how the token ID to embedding vector conversion works with a hands-on\n",
        "example. Suppose we have the following four input tokens with IDs 2, 3, 5, and 1:</div>"
      ]
    },
    {
      "cell_type": "code",
      "execution_count": null,
      "metadata": {
        "id": "6zLO2dVJtrwB"
      },
      "outputs": [],
      "source": [
        "input_ids = torch.tensor([2, 3, 5, 1])\n"
      ]
    },
    {
      "cell_type": "markdown",
      "metadata": {
        "id": "imXClT9ltrwC"
      },
      "source": [
        "<div class=\"alert alert-block alert-success\">\n",
        "    \n",
        "For the sake of simplicity and illustration purposes, suppose we have a small vocabulary of\n",
        "only 6 words (instead of the 50,257 words in the BPE tokenizer vocabulary), and we want\n",
        "to create embeddings of size 3 (in GPT-3, the embedding size is 12,288 dimensions):\n",
        "\n",
        "</div>"
      ]
    },
    {
      "cell_type": "markdown",
      "metadata": {
        "id": "6kVJLnnCtrwC"
      },
      "source": [
        "<div class=\"alert alert-block alert-success\">\n",
        "    \n",
        "Using the vocab_size and output_dim, we can instantiate an embedding layer in PyTorch,\n",
        "setting the random seed to 123 for reproducibility purposes:\n",
        "\n",
        "</div>"
      ]
    },
    {
      "cell_type": "code",
      "execution_count": null,
      "metadata": {
        "id": "93MnSMZqtrwC"
      },
      "outputs": [],
      "source": [
        "vocab_size = 6\n",
        "output_dim = 3\n",
        "\n",
        "torch.manual_seed(123)\n",
        "embedding_layer = torch.nn.Embedding(vocab_size, output_dim)"
      ]
    },
    {
      "cell_type": "markdown",
      "metadata": {
        "id": "t3XhsaJrtrwC"
      },
      "source": [
        "<div class=\"alert alert-block alert-info\">\n",
        "    \n",
        "The print statement in the code prints the embedding layer's underlying\n",
        "weight matrix:\n",
        "    \n",
        "</div>"
      ]
    },
    {
      "cell_type": "code",
      "execution_count": null,
      "metadata": {
        "id": "l6UTBaOgtrwC",
        "outputId": "f3fecb53-15b0-413d-b2b9-01073b07ccd5",
        "colab": {
          "base_uri": "https://localhost:8080/"
        }
      },
      "outputs": [
        {
          "output_type": "stream",
          "name": "stdout",
          "text": [
            "Parameter containing:\n",
            "tensor([[ 0.3374, -0.1778, -0.1690],\n",
            "        [ 0.9178,  1.5810,  1.3010],\n",
            "        [ 1.2753, -0.2010, -0.1606],\n",
            "        [-0.4015,  0.9666, -1.1481],\n",
            "        [-1.1589,  0.3255, -0.6315],\n",
            "        [-2.8400, -0.7849, -1.4096]], requires_grad=True)\n"
          ]
        }
      ],
      "source": [
        "print(embedding_layer.weight)\n"
      ]
    },
    {
      "cell_type": "markdown",
      "metadata": {
        "id": "U3EeX8FgtrwC"
      },
      "source": [
        "<div class=\"alert alert-block alert-info\">\n",
        "    \n",
        "We can see that the weight matrix of the embedding layer contains small, random values.\n",
        "These values are optimized during LLM training as part of the LLM optimization itself, as we\n",
        "will see in upcoming chapters. Moreover, we can see that the weight matrix has six rows\n",
        "and three columns. There is one row for each of the six possible tokens in the vocabulary.\n",
        "And there is one column for each of the three embedding dimensions.\n",
        "    \n",
        "</div>"
      ]
    },
    {
      "cell_type": "markdown",
      "metadata": {
        "id": "D5xlmxeGtrwC"
      },
      "source": [
        "<div class=\"alert alert-block alert-success\">\n",
        "    \n",
        "After we instantiated the embedding layer, let's now apply it to a token ID to obtain the\n",
        "embedding vector:\n",
        "\n",
        "</div>"
      ]
    },
    {
      "cell_type": "code",
      "execution_count": null,
      "metadata": {
        "id": "msAYVYLMtrwC",
        "outputId": "e19e970b-e20d-405e-8dd1-82e5e98022b5",
        "colab": {
          "base_uri": "https://localhost:8080/"
        }
      },
      "outputs": [
        {
          "output_type": "stream",
          "name": "stdout",
          "text": [
            "tensor([[-0.4015,  0.9666, -1.1481]], grad_fn=<EmbeddingBackward0>)\n"
          ]
        }
      ],
      "source": [
        "print(embedding_layer(torch.tensor([3])))\n"
      ]
    },
    {
      "cell_type": "markdown",
      "metadata": {
        "id": "8MXclm0QtrwC"
      },
      "source": [
        "<div class=\"alert alert-block alert-info\">\n",
        "    \n",
        "If we compare the embedding vector for token ID 3 to the previous embedding matrix, we\n",
        "see that it is identical to the 4th row (Python starts with a zero index, so it's the row\n",
        "corresponding to index 3). In other words, the embedding layer is essentially a look-up\n",
        "operation that retrieves rows from the embedding layer's weight matrix via a token ID.\n",
        "    \n",
        "</div>"
      ]
    },
    {
      "cell_type": "markdown",
      "metadata": {
        "id": "GB7qlHzttrwC"
      },
      "source": [
        "<div class=\"alert alert-block alert-success\">\n",
        "    \n",
        "Previously, we have seen how to convert a single token ID into a three-dimensional\n",
        "embedding vector. Let's now apply that to all four input IDs we defined earlier\n",
        "(torch.tensor([2, 3, 5, 1])):\n",
        "\n",
        "</div>"
      ]
    },
    {
      "cell_type": "code",
      "execution_count": null,
      "metadata": {
        "id": "vWQrSBQQtrwC",
        "outputId": "99da0a31-be95-4529-cbac-677d1481ed9c",
        "colab": {
          "base_uri": "https://localhost:8080/"
        }
      },
      "outputs": [
        {
          "output_type": "stream",
          "name": "stdout",
          "text": [
            "tensor([[ 1.2753, -0.2010, -0.1606],\n",
            "        [-0.4015,  0.9666, -1.1481],\n",
            "        [-2.8400, -0.7849, -1.4096],\n",
            "        [ 0.9178,  1.5810,  1.3010]], grad_fn=<EmbeddingBackward0>)\n"
          ]
        }
      ],
      "source": [
        "print(embedding_layer(input_ids))\n"
      ]
    },
    {
      "cell_type": "markdown",
      "metadata": {
        "id": "HBn3UmOntrwD"
      },
      "source": [
        "<div class=\"alert alert-block alert-info\">\n",
        "    \n",
        "Each row in this output matrix is obtained via a lookup operation from the embedding\n",
        "weight matrix\n",
        "    \n",
        "</div>"
      ]
    },
    {
      "cell_type": "markdown",
      "metadata": {
        "id": "QeCv8mzvtrwD"
      },
      "source": [
        "**POSITIONAL EMBEDDINGS (ENCODING WORD POSITIONS)**"
      ]
    },
    {
      "cell_type": "code",
      "execution_count": null,
      "metadata": {
        "id": "SiUax3QStrwD"
      },
      "outputs": [],
      "source": [
        "vocab_size = 50257\n",
        "output_dim = 256\n",
        "\n",
        "token_embedding_layer = torch.nn.Embedding(vocab_size, output_dim)"
      ]
    },
    {
      "cell_type": "code",
      "execution_count": null,
      "metadata": {
        "id": "lSbzRFwutrwD"
      },
      "outputs": [],
      "source": [
        "max_length = 4\n",
        "dataloader = create_dataloader_v1(\n",
        "    raw_text, batch_size=8, max_length=max_length,\n",
        "    stride=max_length, shuffle=False\n",
        ")\n",
        "data_iter = iter(dataloader)\n",
        "inputs, targets = next(data_iter)"
      ]
    },
    {
      "cell_type": "code",
      "execution_count": null,
      "metadata": {
        "id": "rQ31tZFGtrwD",
        "outputId": "027d144d-03c0-4cef-c371-58b2df263825",
        "colab": {
          "base_uri": "https://localhost:8080/"
        }
      },
      "outputs": [
        {
          "output_type": "stream",
          "name": "stdout",
          "text": [
            "Token IDs:\n",
            " tensor([[   40,   367,  2885,  1464],\n",
            "        [ 1807,  3619,   402,   271],\n",
            "        [10899,  2138,   257,  7026],\n",
            "        [15632,   438,  2016,   257],\n",
            "        [  922,  5891,  1576,   438],\n",
            "        [  568,   340,   373,   645],\n",
            "        [ 1049,  5975,   284,   502],\n",
            "        [  284,  3285,   326,    11]])\n",
            "\n",
            "Inputs shape:\n",
            " torch.Size([8, 4])\n"
          ]
        }
      ],
      "source": [
        "print(\"Token IDs:\\n\", inputs)\n",
        "print(\"\\nInputs shape:\\n\", inputs.shape)"
      ]
    },
    {
      "cell_type": "code",
      "execution_count": null,
      "metadata": {
        "id": "GuI9le4OtrwD",
        "outputId": "2ac49ea7-00dc-4177-c8f3-daeea05c3349",
        "colab": {
          "base_uri": "https://localhost:8080/"
        }
      },
      "outputs": [
        {
          "output_type": "stream",
          "name": "stdout",
          "text": [
            "torch.Size([8, 4, 256])\n"
          ]
        }
      ],
      "source": [
        "token_embeddings = token_embedding_layer(inputs)\n",
        "print(token_embeddings.shape)"
      ]
    },
    {
      "cell_type": "code",
      "execution_count": null,
      "metadata": {
        "id": "X_0jwIWktrwD"
      },
      "outputs": [],
      "source": [
        "context_length = max_length\n",
        "pos_embedding_layer = torch.nn.Embedding(context_length, output_dim)"
      ]
    },
    {
      "cell_type": "code",
      "execution_count": null,
      "metadata": {
        "id": "kEPyVrGctrwD",
        "outputId": "98abac60-1799-4bf4-ea8d-d1dd51d7f789",
        "colab": {
          "base_uri": "https://localhost:8080/"
        }
      },
      "outputs": [
        {
          "output_type": "stream",
          "name": "stdout",
          "text": [
            "torch.Size([4, 256])\n"
          ]
        }
      ],
      "source": [
        "pos_embeddings = pos_embedding_layer(torch.arange(max_length))\n",
        "print(pos_embeddings.shape)"
      ]
    },
    {
      "cell_type": "code",
      "execution_count": null,
      "metadata": {
        "id": "CnDw1lcYtrwD",
        "outputId": "5c6f039e-b1c7-496e-e7b5-021e18243f81",
        "colab": {
          "base_uri": "https://localhost:8080/"
        }
      },
      "outputs": [
        {
          "output_type": "stream",
          "name": "stdout",
          "text": [
            "torch.Size([8, 4, 256])\n"
          ]
        }
      ],
      "source": [
        "input_embeddings = token_embeddings + pos_embeddings\n",
        "print(input_embeddings.shape)"
      ]
    },
    {
      "cell_type": "code",
      "execution_count": null,
      "metadata": {
        "id": "-8CdZZZmtrwD"
      },
      "outputs": [],
      "source": []
    }
  ]
}